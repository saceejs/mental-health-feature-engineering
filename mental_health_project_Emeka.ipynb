{
 "cells": [
  {
   "cell_type": "markdown",
   "metadata": {},
   "source": [
    "## Import Required Libraries"
   ]
  },
  {
   "cell_type": "code",
   "execution_count": 1,
   "metadata": {
    "colab": {
     "base_uri": "https://localhost:8080/"
    },
    "id": "JaSY8PmhMoK8",
    "outputId": "0fb2dd0a-52de-498a-b990-2231dd39f006"
   },
   "outputs": [],
   "source": [
    "import numpy as np\n",
    "import pandas as pd\n",
    "import matplotlib.pyplot as plt\n",
    "import seaborn as sns\n",
    "\n",
    "from scipy import stats\n",
    "from scipy.stats import randint\n",
    "from sklearn.model_selection import train_test_split\n",
    "from sklearn import preprocessing\n",
    "from sklearn.datasets import make_classification\n",
    "from sklearn.preprocessing import binarize, LabelEncoder, MinMaxScaler\n",
    "from sklearn.feature_selection import SelectKBest, chi2\n",
    "\n",
    "from sklearn.ensemble import AdaBoostClassifier # Boost\n",
    "from sklearn.tree import DecisionTreeClassifier # DTC\n",
    "from sklearn.naive_bayes import GaussianNB      # NB\n",
    "from sklearn.svm import SVC                     #SVC\n",
    "\n",
    "\n",
    "from sklearn import metrics\n",
    "from sklearn.metrics import ( accuracy_score, mean_squared_error,\n",
    "            precision_recall_curve, classification_report, confusion_matrix )\n",
    "from sklearn.model_selection import cross_val_score\n",
    "from collections import Counter\n",
    "\n",
    "import warnings\n",
    "warnings.filterwarnings('ignore')\n"
   ]
  },
  {
   "cell_type": "markdown",
   "metadata": {},
   "source": [
    "## Dataset"
   ]
  },
  {
   "cell_type": "markdown",
   "metadata": {},
   "source": [
    "* <h3> Assigning identifiers to questionnaire questions </h3>"
   ]
  },
  {
   "cell_type": "markdown",
   "metadata": {},
   "source": [
    "* **age**\n",
    "* **gender**\n",
    "* **country**\n",
    "* **race**\n",
    "* **mental_health**: does the individual currently have mental health disorder?\n",
    "* **mental_health_diagnosed**: was the individual diagnosed from a professional for mental health disorder?\n",
    "* **family_history:** Do you have a family history of mental illness?\n",
    "* **treatment:** Have you sought treatment for a mental health condition?\n",
    "* **self_employed:** Are you self-employed?\n",
    "* **work_interfere:** If you have a mental health condition, do you feel that it interferes with your work?\n",
    "* **no_employees:** How many employees does your company or organization have?\n",
    "* **tech_company:** Is your employer primarily a tech company/organization?\n",
    "* **benefits:** Does your employer provide mental health benefits?\n",
    "* **care_options:** Do you know the options for mental health care your employer provides?\n",
    "* **wellness_program:** Has your employer ever discussed mental health as part of an employee wellness program?\n",
    "* **seek_help:** Does your employer provide resources to learn more about mental health issues and how to seek help?\n",
    "* **anonymity:** Is your anonymity protected if you choose to take advantage of mental health or substance abuse treatment resources?\n",
    "* **leave:** How easy is it for you to take medical leave for a mental health condition?\n",
    "* **coworkers:** Would you be willing to discuss a mental health issue with your coworkers?\n",
    "* **mental_importance**: how much importance does your employer place on mental health?\n",
    "* **physical_importance**: how much importance does your employer place on physical health?\n",
    "* **supervisor**: Would you feel comfortable discussing a mental health issue with your direct supervisor?\n",
    "* **mental_health_interview**: Would you bring up your mental health with a potential employer in an interview?\n",
    "* **mental_vs_physical**: Would you feel more comfortable talking to your coworkers about your physical health or your mental health?\n",
    "* **obs_neg_response**: Have you observed or experienced an unsupportive or badly handled response to a mental health issue in your current or previous workplace?\n",
    "* **neg_consequence_coworker**: Have your observations of how another individual who discussed a mental health issue made you less likely to reveal a mental health issue yourself in your current workplace "
   ]
  },
  {
   "cell_type": "markdown",
   "metadata": {},
   "source": [
    "* <h3> Load dataset </h3>"
   ]
  },
  {
   "cell_type": "markdown",
   "metadata": {},
   "source": [
    "We proceed with 4 of the compatible years, based on the selected variables"
   ]
  },
  {
   "cell_type": "code",
   "execution_count": 2,
   "metadata": {},
   "outputs": [],
   "source": [
    "osmi14 = data = pd.read_csv('./data_years_cleaned/OSMI_2014_cleaned.csv', na_values='NA')\n",
    "osmi19 = data = pd.read_csv('./data_years_cleaned/OSMI_2019_cleaned.csv', na_values='NA')\n",
    "osmi20 = data = pd.read_csv('./data_years_cleaned/OSMI_2020_cleaned.csv', na_values='NA')\n",
    "osmi21 = data = pd.read_csv('./data_years_cleaned/OSMI_2021_cleaned.csv', na_values='NA')"
   ]
  },
  {
   "cell_type": "markdown",
   "metadata": {},
   "source": [
    "* Concatenate dataset"
   ]
  },
  {
   "cell_type": "code",
   "execution_count": 3,
   "metadata": {
    "colab": {
     "base_uri": "https://localhost:8080/"
    },
    "id": "KIVsuSklXTWM",
    "outputId": "50f0e7c2-0a35-4ea7-a0e2-72fcbbde9d0e"
   },
   "outputs": [
    {
     "name": "stdout",
     "output_type": "stream",
     "text": [
      "                age  Unnamed: 0  physical_importance  mental_importance\n",
      "count  1.922000e+03  663.000000           573.000000         573.000000\n",
      "mean   5.202917e+07  131.318250             6.462478           5.069808\n",
      "std    2.280990e+09   94.286827             2.285728           2.565644\n",
      "min   -1.726000e+03    1.000000             0.000000           0.000000\n",
      "25%    2.700000e+01   56.000000             5.000000           3.000000\n",
      "50%    3.200000e+01  111.000000             7.000000           5.000000\n",
      "75%    3.700000e+01  186.500000             8.000000           7.000000\n",
      "max    1.000000e+11  352.000000            10.000000          10.000000\n",
      "<class 'pandas.core.frame.DataFrame'>\n",
      "RangeIndex: 1922 entries, 0 to 1921\n",
      "Data columns (total 35 columns):\n",
      " #   Column                     Non-Null Count  Dtype  \n",
      "---  ------                     --------------  -----  \n",
      " 0   Timestamp                  1259 non-null   object \n",
      " 1   age                        1922 non-null   int64  \n",
      " 2   gender                     1913 non-null   object \n",
      " 3   country                    1922 non-null   object \n",
      " 4   state                      744 non-null    object \n",
      " 5   self_employed              1904 non-null   object \n",
      " 6   family_history             1922 non-null   object \n",
      " 7   treatment                  1922 non-null   object \n",
      " 8   work_interfere             1658 non-null   object \n",
      " 9   no_employees               1832 non-null   object \n",
      " 10  remote_work                1259 non-null   object \n",
      " 11  tech_company               1832 non-null   object \n",
      " 12  benefits                   1832 non-null   object \n",
      " 13  care_options               1773 non-null   object \n",
      " 14  wellness_program           1832 non-null   object \n",
      " 15  seek_help                  1832 non-null   object \n",
      " 16  anonymity                  1832 non-null   object \n",
      " 17  leave                      1832 non-null   object \n",
      " 18  mental_health_consequence  1259 non-null   object \n",
      " 19  phys_health_consequence    1259 non-null   object \n",
      " 20  coworkers                  1832 non-null   object \n",
      " 21  supervisor                 1832 non-null   object \n",
      " 22  mental_health_interview    1922 non-null   object \n",
      " 23  phys_health_interview      1259 non-null   object \n",
      " 24  mental_vs_physical         1832 non-null   object \n",
      " 25  obs_consequence            1259 non-null   object \n",
      " 26  comments                   164 non-null    object \n",
      " 27  Unnamed: 0                 663 non-null    float64\n",
      " 28  race                       317 non-null    object \n",
      " 29  mental_health              663 non-null    object \n",
      " 30  mental_health_diagnosed    241 non-null    object \n",
      " 31  obs_neg_response           663 non-null    object \n",
      " 32  physical_importance        573 non-null    float64\n",
      " 33  mental_importance          573 non-null    float64\n",
      " 34  neg_consequence_coworker   532 non-null    object \n",
      "dtypes: float64(3), int64(1), object(31)\n",
      "memory usage: 525.7+ KB\n",
      "None\n"
     ]
    }
   ],
   "source": [
    "data = pd.concat([osmi14, osmi19, osmi20, osmi21], ignore_index=True)\n",
    "print(data.describe())\n",
    "print(data.info())"
   ]
  },
  {
   "cell_type": "code",
   "execution_count": 4,
   "metadata": {},
   "outputs": [
    {
     "data": {
      "text/plain": [
       "Index(['Timestamp', 'age', 'gender', 'country', 'state', 'self_employed',\n",
       "       'family_history', 'treatment', 'work_interfere', 'no_employees',\n",
       "       'remote_work', 'tech_company', 'benefits', 'care_options',\n",
       "       'wellness_program', 'seek_help', 'anonymity', 'leave',\n",
       "       'mental_health_consequence', 'phys_health_consequence', 'coworkers',\n",
       "       'supervisor', 'mental_health_interview', 'phys_health_interview',\n",
       "       'mental_vs_physical', 'obs_consequence', 'comments', 'Unnamed: 0',\n",
       "       'race', 'mental_health', 'mental_health_diagnosed', 'obs_neg_response',\n",
       "       'physical_importance', 'mental_importance', 'neg_consequence_coworker'],\n",
       "      dtype='object')"
      ]
     },
     "execution_count": 4,
     "metadata": {},
     "output_type": "execute_result"
    }
   ],
   "source": [
    "data.columns"
   ]
  },
  {
   "cell_type": "markdown",
   "metadata": {
    "id": "ZPKx4y5QX5by"
   },
   "source": [
    "## Data Preprocessing"
   ]
  },
  {
   "cell_type": "markdown",
   "metadata": {},
   "source": [
    "* Checking for missing values"
   ]
  },
  {
   "cell_type": "code",
   "execution_count": 5,
   "metadata": {
    "colab": {
     "base_uri": "https://localhost:8080/"
    },
    "id": "nGGtUHo5XzvX",
    "outputId": "3747df08-d077-483a-d33e-0a28aa55dd83"
   },
   "outputs": [
    {
     "name": "stdout",
     "output_type": "stream",
     "text": [
      "                           Total   Percent\n",
      "comments                    1758  0.914672\n",
      "mental_health_diagnosed     1681  0.874610\n",
      "race                        1605  0.835068\n",
      "neg_consequence_coworker    1390  0.723205\n",
      "mental_importance           1349  0.701873\n",
      "physical_importance         1349  0.701873\n",
      "obs_neg_response            1259  0.655047\n",
      "mental_health               1259  0.655047\n",
      "Unnamed: 0                  1259  0.655047\n",
      "state                       1178  0.612903\n",
      "mental_health_consequence    663  0.344953\n",
      "obs_consequence              663  0.344953\n",
      "phys_health_interview        663  0.344953\n",
      "phys_health_consequence      663  0.344953\n",
      "Timestamp                    663  0.344953\n",
      "remote_work                  663  0.344953\n",
      "work_interfere               264  0.137357\n",
      "care_options                 149  0.077523\n",
      "seek_help                     90  0.046826\n",
      "benefits                      90  0.046826\n",
      "no_employees                  90  0.046826\n",
      "anonymity                     90  0.046826\n",
      "mental_vs_physical            90  0.046826\n",
      "tech_company                  90  0.046826\n",
      "supervisor                    90  0.046826\n",
      "coworkers                     90  0.046826\n",
      "wellness_program              90  0.046826\n",
      "leave                         90  0.046826\n",
      "self_employed                 18  0.009365\n",
      "gender                         9  0.004683\n",
      "mental_health_interview        0  0.000000\n",
      "age                            0  0.000000\n",
      "treatment                      0  0.000000\n",
      "family_history                 0  0.000000\n",
      "country                        0  0.000000\n"
     ]
    }
   ],
   "source": [
    "total_missing = data.isnull().sum().sort_values(ascending=False)\n",
    "percent = (data.isnull().sum()/data.isnull().count()).sort_values(ascending=False)\n",
    "missing_data = pd.concat([total_missing, percent], axis=1, keys=['Total', 'Percent'])\n",
    "missing_data.head(20)\n",
    "print(missing_data)"
   ]
  },
  {
   "cell_type": "markdown",
   "metadata": {},
   "source": [
    "* Drop comments, state, unnamed, country and Timestamp from features"
   ]
  },
  {
   "cell_type": "code",
   "execution_count": 6,
   "metadata": {
    "colab": {
     "base_uri": "https://localhost:8080/",
     "height": 309
    },
    "id": "EZL7prT6X-7T",
    "outputId": "9997402c-1832-4170-bf9c-a0d070f8108b"
   },
   "outputs": [],
   "source": [
    "data.drop(['comments'], axis= 1, inplace=True)\n",
    "data.drop(['state'], axis= 1, inplace=True)\n",
    "data.drop(['Timestamp'], axis= 1, inplace=True)\n",
    "data.drop(['Unnamed: 0'], axis= 1, inplace=True)\n",
    "data.drop(['country'], axis= 1, inplace=True)"
   ]
  },
  {
   "cell_type": "code",
   "execution_count": 7,
   "metadata": {},
   "outputs": [
    {
     "data": {
      "text/html": [
       "<div>\n",
       "<style scoped>\n",
       "    .dataframe tbody tr th:only-of-type {\n",
       "        vertical-align: middle;\n",
       "    }\n",
       "\n",
       "    .dataframe tbody tr th {\n",
       "        vertical-align: top;\n",
       "    }\n",
       "\n",
       "    .dataframe thead th {\n",
       "        text-align: right;\n",
       "    }\n",
       "</style>\n",
       "<table border=\"1\" class=\"dataframe\">\n",
       "  <thead>\n",
       "    <tr style=\"text-align: right;\">\n",
       "      <th></th>\n",
       "      <th>age</th>\n",
       "      <th>gender</th>\n",
       "      <th>self_employed</th>\n",
       "      <th>family_history</th>\n",
       "      <th>treatment</th>\n",
       "      <th>work_interfere</th>\n",
       "      <th>no_employees</th>\n",
       "      <th>remote_work</th>\n",
       "      <th>tech_company</th>\n",
       "      <th>benefits</th>\n",
       "      <th>...</th>\n",
       "      <th>phys_health_interview</th>\n",
       "      <th>mental_vs_physical</th>\n",
       "      <th>obs_consequence</th>\n",
       "      <th>race</th>\n",
       "      <th>mental_health</th>\n",
       "      <th>mental_health_diagnosed</th>\n",
       "      <th>obs_neg_response</th>\n",
       "      <th>physical_importance</th>\n",
       "      <th>mental_importance</th>\n",
       "      <th>neg_consequence_coworker</th>\n",
       "    </tr>\n",
       "  </thead>\n",
       "  <tbody>\n",
       "    <tr>\n",
       "      <th>0</th>\n",
       "      <td>37</td>\n",
       "      <td>Female</td>\n",
       "      <td>NaN</td>\n",
       "      <td>No</td>\n",
       "      <td>Yes</td>\n",
       "      <td>Often</td>\n",
       "      <td>Jun-25</td>\n",
       "      <td>No</td>\n",
       "      <td>Yes</td>\n",
       "      <td>Yes</td>\n",
       "      <td>...</td>\n",
       "      <td>Maybe</td>\n",
       "      <td>Yes</td>\n",
       "      <td>No</td>\n",
       "      <td>NaN</td>\n",
       "      <td>NaN</td>\n",
       "      <td>NaN</td>\n",
       "      <td>NaN</td>\n",
       "      <td>NaN</td>\n",
       "      <td>NaN</td>\n",
       "      <td>NaN</td>\n",
       "    </tr>\n",
       "    <tr>\n",
       "      <th>1</th>\n",
       "      <td>44</td>\n",
       "      <td>M</td>\n",
       "      <td>NaN</td>\n",
       "      <td>No</td>\n",
       "      <td>No</td>\n",
       "      <td>Rarely</td>\n",
       "      <td>More than 1000</td>\n",
       "      <td>No</td>\n",
       "      <td>No</td>\n",
       "      <td>Don't know</td>\n",
       "      <td>...</td>\n",
       "      <td>No</td>\n",
       "      <td>Don't know</td>\n",
       "      <td>No</td>\n",
       "      <td>NaN</td>\n",
       "      <td>NaN</td>\n",
       "      <td>NaN</td>\n",
       "      <td>NaN</td>\n",
       "      <td>NaN</td>\n",
       "      <td>NaN</td>\n",
       "      <td>NaN</td>\n",
       "    </tr>\n",
       "    <tr>\n",
       "      <th>2</th>\n",
       "      <td>32</td>\n",
       "      <td>Male</td>\n",
       "      <td>NaN</td>\n",
       "      <td>No</td>\n",
       "      <td>No</td>\n",
       "      <td>Rarely</td>\n",
       "      <td>Jun-25</td>\n",
       "      <td>No</td>\n",
       "      <td>Yes</td>\n",
       "      <td>No</td>\n",
       "      <td>...</td>\n",
       "      <td>Yes</td>\n",
       "      <td>No</td>\n",
       "      <td>No</td>\n",
       "      <td>NaN</td>\n",
       "      <td>NaN</td>\n",
       "      <td>NaN</td>\n",
       "      <td>NaN</td>\n",
       "      <td>NaN</td>\n",
       "      <td>NaN</td>\n",
       "      <td>NaN</td>\n",
       "    </tr>\n",
       "    <tr>\n",
       "      <th>3</th>\n",
       "      <td>31</td>\n",
       "      <td>Male</td>\n",
       "      <td>NaN</td>\n",
       "      <td>Yes</td>\n",
       "      <td>Yes</td>\n",
       "      <td>Often</td>\n",
       "      <td>26-100</td>\n",
       "      <td>No</td>\n",
       "      <td>Yes</td>\n",
       "      <td>No</td>\n",
       "      <td>...</td>\n",
       "      <td>Maybe</td>\n",
       "      <td>No</td>\n",
       "      <td>Yes</td>\n",
       "      <td>NaN</td>\n",
       "      <td>NaN</td>\n",
       "      <td>NaN</td>\n",
       "      <td>NaN</td>\n",
       "      <td>NaN</td>\n",
       "      <td>NaN</td>\n",
       "      <td>NaN</td>\n",
       "    </tr>\n",
       "    <tr>\n",
       "      <th>4</th>\n",
       "      <td>31</td>\n",
       "      <td>Male</td>\n",
       "      <td>NaN</td>\n",
       "      <td>No</td>\n",
       "      <td>No</td>\n",
       "      <td>Never</td>\n",
       "      <td>100-500</td>\n",
       "      <td>Yes</td>\n",
       "      <td>Yes</td>\n",
       "      <td>Yes</td>\n",
       "      <td>...</td>\n",
       "      <td>Yes</td>\n",
       "      <td>Don't know</td>\n",
       "      <td>No</td>\n",
       "      <td>NaN</td>\n",
       "      <td>NaN</td>\n",
       "      <td>NaN</td>\n",
       "      <td>NaN</td>\n",
       "      <td>NaN</td>\n",
       "      <td>NaN</td>\n",
       "      <td>NaN</td>\n",
       "    </tr>\n",
       "  </tbody>\n",
       "</table>\n",
       "<p>5 rows × 30 columns</p>\n",
       "</div>"
      ],
      "text/plain": [
       "   age  gender self_employed family_history treatment work_interfere  \\\n",
       "0   37  Female           NaN             No       Yes          Often   \n",
       "1   44       M           NaN             No        No         Rarely   \n",
       "2   32    Male           NaN             No        No         Rarely   \n",
       "3   31    Male           NaN            Yes       Yes          Often   \n",
       "4   31    Male           NaN             No        No          Never   \n",
       "\n",
       "     no_employees remote_work tech_company    benefits  ...  \\\n",
       "0          Jun-25          No          Yes         Yes  ...   \n",
       "1  More than 1000          No           No  Don't know  ...   \n",
       "2          Jun-25          No          Yes          No  ...   \n",
       "3          26-100          No          Yes          No  ...   \n",
       "4         100-500         Yes          Yes         Yes  ...   \n",
       "\n",
       "  phys_health_interview mental_vs_physical obs_consequence race mental_health  \\\n",
       "0                 Maybe                Yes              No  NaN           NaN   \n",
       "1                    No         Don't know              No  NaN           NaN   \n",
       "2                   Yes                 No              No  NaN           NaN   \n",
       "3                 Maybe                 No             Yes  NaN           NaN   \n",
       "4                   Yes         Don't know              No  NaN           NaN   \n",
       "\n",
       "  mental_health_diagnosed obs_neg_response physical_importance  \\\n",
       "0                     NaN              NaN                 NaN   \n",
       "1                     NaN              NaN                 NaN   \n",
       "2                     NaN              NaN                 NaN   \n",
       "3                     NaN              NaN                 NaN   \n",
       "4                     NaN              NaN                 NaN   \n",
       "\n",
       "  mental_importance neg_consequence_coworker  \n",
       "0               NaN                      NaN  \n",
       "1               NaN                      NaN  \n",
       "2               NaN                      NaN  \n",
       "3               NaN                      NaN  \n",
       "4               NaN                      NaN  \n",
       "\n",
       "[5 rows x 30 columns]"
      ]
     },
     "execution_count": 7,
     "metadata": {},
     "output_type": "execute_result"
    }
   ],
   "source": [
    "data.isnull().sum().max()\n",
    "data.head(5)"
   ]
  },
  {
   "cell_type": "markdown",
   "metadata": {},
   "source": [
    "* Fill NaNs with default data types"
   ]
  },
  {
   "cell_type": "code",
   "execution_count": 8,
   "metadata": {
    "colab": {
     "base_uri": "https://localhost:8080/",
     "height": 309
    },
    "id": "hI4SbkGXYTp_",
    "outputId": "59835891-4d62-480d-8e89-ce156a823753"
   },
   "outputs": [
    {
     "name": "stdout",
     "output_type": "stream",
     "text": [
      "Error: Feature race not recognized.\n",
      "Error: Feature mental_health not recognized.\n",
      "Error: Feature mental_health_diagnosed not recognized.\n",
      "Error: Feature obs_neg_response not recognized.\n",
      "Error: Feature physical_importance not recognized.\n",
      "Error: Feature mental_importance not recognized.\n",
      "Error: Feature neg_consequence_coworker not recognized.\n"
     ]
    },
    {
     "data": {
      "text/html": [
       "<div>\n",
       "<style scoped>\n",
       "    .dataframe tbody tr th:only-of-type {\n",
       "        vertical-align: middle;\n",
       "    }\n",
       "\n",
       "    .dataframe tbody tr th {\n",
       "        vertical-align: top;\n",
       "    }\n",
       "\n",
       "    .dataframe thead th {\n",
       "        text-align: right;\n",
       "    }\n",
       "</style>\n",
       "<table border=\"1\" class=\"dataframe\">\n",
       "  <thead>\n",
       "    <tr style=\"text-align: right;\">\n",
       "      <th></th>\n",
       "      <th>age</th>\n",
       "      <th>gender</th>\n",
       "      <th>self_employed</th>\n",
       "      <th>family_history</th>\n",
       "      <th>treatment</th>\n",
       "      <th>work_interfere</th>\n",
       "      <th>no_employees</th>\n",
       "      <th>remote_work</th>\n",
       "      <th>tech_company</th>\n",
       "      <th>benefits</th>\n",
       "      <th>...</th>\n",
       "      <th>phys_health_interview</th>\n",
       "      <th>mental_vs_physical</th>\n",
       "      <th>obs_consequence</th>\n",
       "      <th>race</th>\n",
       "      <th>mental_health</th>\n",
       "      <th>mental_health_diagnosed</th>\n",
       "      <th>obs_neg_response</th>\n",
       "      <th>physical_importance</th>\n",
       "      <th>mental_importance</th>\n",
       "      <th>neg_consequence_coworker</th>\n",
       "    </tr>\n",
       "  </thead>\n",
       "  <tbody>\n",
       "    <tr>\n",
       "      <th>0</th>\n",
       "      <td>37</td>\n",
       "      <td>Female</td>\n",
       "      <td>No</td>\n",
       "      <td>No</td>\n",
       "      <td>Yes</td>\n",
       "      <td>Often</td>\n",
       "      <td>Jun-25</td>\n",
       "      <td>No</td>\n",
       "      <td>Yes</td>\n",
       "      <td>Yes</td>\n",
       "      <td>...</td>\n",
       "      <td>Maybe</td>\n",
       "      <td>Yes</td>\n",
       "      <td>No</td>\n",
       "      <td>NaN</td>\n",
       "      <td>NaN</td>\n",
       "      <td>NaN</td>\n",
       "      <td>NaN</td>\n",
       "      <td>NaN</td>\n",
       "      <td>NaN</td>\n",
       "      <td>NaN</td>\n",
       "    </tr>\n",
       "    <tr>\n",
       "      <th>1</th>\n",
       "      <td>44</td>\n",
       "      <td>M</td>\n",
       "      <td>No</td>\n",
       "      <td>No</td>\n",
       "      <td>No</td>\n",
       "      <td>Rarely</td>\n",
       "      <td>More than 1000</td>\n",
       "      <td>No</td>\n",
       "      <td>No</td>\n",
       "      <td>Don't know</td>\n",
       "      <td>...</td>\n",
       "      <td>No</td>\n",
       "      <td>Don't know</td>\n",
       "      <td>No</td>\n",
       "      <td>NaN</td>\n",
       "      <td>NaN</td>\n",
       "      <td>NaN</td>\n",
       "      <td>NaN</td>\n",
       "      <td>NaN</td>\n",
       "      <td>NaN</td>\n",
       "      <td>NaN</td>\n",
       "    </tr>\n",
       "    <tr>\n",
       "      <th>2</th>\n",
       "      <td>32</td>\n",
       "      <td>Male</td>\n",
       "      <td>No</td>\n",
       "      <td>No</td>\n",
       "      <td>No</td>\n",
       "      <td>Rarely</td>\n",
       "      <td>Jun-25</td>\n",
       "      <td>No</td>\n",
       "      <td>Yes</td>\n",
       "      <td>No</td>\n",
       "      <td>...</td>\n",
       "      <td>Yes</td>\n",
       "      <td>No</td>\n",
       "      <td>No</td>\n",
       "      <td>NaN</td>\n",
       "      <td>NaN</td>\n",
       "      <td>NaN</td>\n",
       "      <td>NaN</td>\n",
       "      <td>NaN</td>\n",
       "      <td>NaN</td>\n",
       "      <td>NaN</td>\n",
       "    </tr>\n",
       "    <tr>\n",
       "      <th>3</th>\n",
       "      <td>31</td>\n",
       "      <td>Male</td>\n",
       "      <td>No</td>\n",
       "      <td>Yes</td>\n",
       "      <td>Yes</td>\n",
       "      <td>Often</td>\n",
       "      <td>26-100</td>\n",
       "      <td>No</td>\n",
       "      <td>Yes</td>\n",
       "      <td>No</td>\n",
       "      <td>...</td>\n",
       "      <td>Maybe</td>\n",
       "      <td>No</td>\n",
       "      <td>Yes</td>\n",
       "      <td>NaN</td>\n",
       "      <td>NaN</td>\n",
       "      <td>NaN</td>\n",
       "      <td>NaN</td>\n",
       "      <td>NaN</td>\n",
       "      <td>NaN</td>\n",
       "      <td>NaN</td>\n",
       "    </tr>\n",
       "    <tr>\n",
       "      <th>4</th>\n",
       "      <td>31</td>\n",
       "      <td>Male</td>\n",
       "      <td>No</td>\n",
       "      <td>No</td>\n",
       "      <td>No</td>\n",
       "      <td>Never</td>\n",
       "      <td>100-500</td>\n",
       "      <td>Yes</td>\n",
       "      <td>Yes</td>\n",
       "      <td>Yes</td>\n",
       "      <td>...</td>\n",
       "      <td>Yes</td>\n",
       "      <td>Don't know</td>\n",
       "      <td>No</td>\n",
       "      <td>NaN</td>\n",
       "      <td>NaN</td>\n",
       "      <td>NaN</td>\n",
       "      <td>NaN</td>\n",
       "      <td>NaN</td>\n",
       "      <td>NaN</td>\n",
       "      <td>NaN</td>\n",
       "    </tr>\n",
       "    <tr>\n",
       "      <th>...</th>\n",
       "      <td>...</td>\n",
       "      <td>...</td>\n",
       "      <td>...</td>\n",
       "      <td>...</td>\n",
       "      <td>...</td>\n",
       "      <td>...</td>\n",
       "      <td>...</td>\n",
       "      <td>...</td>\n",
       "      <td>...</td>\n",
       "      <td>...</td>\n",
       "      <td>...</td>\n",
       "      <td>...</td>\n",
       "      <td>...</td>\n",
       "      <td>...</td>\n",
       "      <td>...</td>\n",
       "      <td>...</td>\n",
       "      <td>...</td>\n",
       "      <td>...</td>\n",
       "      <td>...</td>\n",
       "      <td>...</td>\n",
       "      <td>...</td>\n",
       "    </tr>\n",
       "    <tr>\n",
       "      <th>95</th>\n",
       "      <td>29</td>\n",
       "      <td>male</td>\n",
       "      <td>No</td>\n",
       "      <td>No</td>\n",
       "      <td>No</td>\n",
       "      <td>Never</td>\n",
       "      <td>26-100</td>\n",
       "      <td>No</td>\n",
       "      <td>Yes</td>\n",
       "      <td>Don't know</td>\n",
       "      <td>...</td>\n",
       "      <td>Maybe</td>\n",
       "      <td>No</td>\n",
       "      <td>No</td>\n",
       "      <td>NaN</td>\n",
       "      <td>NaN</td>\n",
       "      <td>NaN</td>\n",
       "      <td>NaN</td>\n",
       "      <td>NaN</td>\n",
       "      <td>NaN</td>\n",
       "      <td>NaN</td>\n",
       "    </tr>\n",
       "    <tr>\n",
       "      <th>96</th>\n",
       "      <td>24</td>\n",
       "      <td>Male</td>\n",
       "      <td>No</td>\n",
       "      <td>Yes</td>\n",
       "      <td>No</td>\n",
       "      <td>Rarely</td>\n",
       "      <td>26-100</td>\n",
       "      <td>No</td>\n",
       "      <td>Yes</td>\n",
       "      <td>Don't know</td>\n",
       "      <td>...</td>\n",
       "      <td>Maybe</td>\n",
       "      <td>Don't know</td>\n",
       "      <td>No</td>\n",
       "      <td>NaN</td>\n",
       "      <td>NaN</td>\n",
       "      <td>NaN</td>\n",
       "      <td>NaN</td>\n",
       "      <td>NaN</td>\n",
       "      <td>NaN</td>\n",
       "      <td>NaN</td>\n",
       "    </tr>\n",
       "    <tr>\n",
       "      <th>97</th>\n",
       "      <td>31</td>\n",
       "      <td>male</td>\n",
       "      <td>No</td>\n",
       "      <td>Yes</td>\n",
       "      <td>Yes</td>\n",
       "      <td>Sometimes</td>\n",
       "      <td>Jun-25</td>\n",
       "      <td>No</td>\n",
       "      <td>Yes</td>\n",
       "      <td>Don't know</td>\n",
       "      <td>...</td>\n",
       "      <td>Yes</td>\n",
       "      <td>No</td>\n",
       "      <td>No</td>\n",
       "      <td>NaN</td>\n",
       "      <td>NaN</td>\n",
       "      <td>NaN</td>\n",
       "      <td>NaN</td>\n",
       "      <td>NaN</td>\n",
       "      <td>NaN</td>\n",
       "      <td>NaN</td>\n",
       "    </tr>\n",
       "    <tr>\n",
       "      <th>98</th>\n",
       "      <td>33</td>\n",
       "      <td>Cis Male</td>\n",
       "      <td>No</td>\n",
       "      <td>No</td>\n",
       "      <td>Yes</td>\n",
       "      <td>Sometimes</td>\n",
       "      <td>Jun-25</td>\n",
       "      <td>No</td>\n",
       "      <td>Yes</td>\n",
       "      <td>No</td>\n",
       "      <td>...</td>\n",
       "      <td>Maybe</td>\n",
       "      <td>No</td>\n",
       "      <td>No</td>\n",
       "      <td>NaN</td>\n",
       "      <td>NaN</td>\n",
       "      <td>NaN</td>\n",
       "      <td>NaN</td>\n",
       "      <td>NaN</td>\n",
       "      <td>NaN</td>\n",
       "      <td>NaN</td>\n",
       "    </tr>\n",
       "    <tr>\n",
       "      <th>99</th>\n",
       "      <td>30</td>\n",
       "      <td>M</td>\n",
       "      <td>No</td>\n",
       "      <td>No</td>\n",
       "      <td>Yes</td>\n",
       "      <td>Often</td>\n",
       "      <td>01-May</td>\n",
       "      <td>No</td>\n",
       "      <td>Yes</td>\n",
       "      <td>No</td>\n",
       "      <td>...</td>\n",
       "      <td>Maybe</td>\n",
       "      <td>Yes</td>\n",
       "      <td>No</td>\n",
       "      <td>NaN</td>\n",
       "      <td>NaN</td>\n",
       "      <td>NaN</td>\n",
       "      <td>NaN</td>\n",
       "      <td>NaN</td>\n",
       "      <td>NaN</td>\n",
       "      <td>NaN</td>\n",
       "    </tr>\n",
       "  </tbody>\n",
       "</table>\n",
       "<p>100 rows × 30 columns</p>\n",
       "</div>"
      ],
      "text/plain": [
       "    age    gender self_employed family_history treatment work_interfere  \\\n",
       "0    37    Female            No             No       Yes          Often   \n",
       "1    44         M            No             No        No         Rarely   \n",
       "2    32      Male            No             No        No         Rarely   \n",
       "3    31      Male            No            Yes       Yes          Often   \n",
       "4    31      Male            No             No        No          Never   \n",
       "..  ...       ...           ...            ...       ...            ...   \n",
       "95   29      male            No             No        No          Never   \n",
       "96   24      Male            No            Yes        No         Rarely   \n",
       "97   31      male            No            Yes       Yes      Sometimes   \n",
       "98   33  Cis Male            No             No       Yes      Sometimes   \n",
       "99   30         M            No             No       Yes          Often   \n",
       "\n",
       "      no_employees remote_work tech_company    benefits  ...  \\\n",
       "0           Jun-25          No          Yes         Yes  ...   \n",
       "1   More than 1000          No           No  Don't know  ...   \n",
       "2           Jun-25          No          Yes          No  ...   \n",
       "3           26-100          No          Yes          No  ...   \n",
       "4          100-500         Yes          Yes         Yes  ...   \n",
       "..             ...         ...          ...         ...  ...   \n",
       "95          26-100          No          Yes  Don't know  ...   \n",
       "96          26-100          No          Yes  Don't know  ...   \n",
       "97          Jun-25          No          Yes  Don't know  ...   \n",
       "98          Jun-25          No          Yes          No  ...   \n",
       "99          01-May          No          Yes          No  ...   \n",
       "\n",
       "   phys_health_interview mental_vs_physical obs_consequence race  \\\n",
       "0                  Maybe                Yes              No  NaN   \n",
       "1                     No         Don't know              No  NaN   \n",
       "2                    Yes                 No              No  NaN   \n",
       "3                  Maybe                 No             Yes  NaN   \n",
       "4                    Yes         Don't know              No  NaN   \n",
       "..                   ...                ...             ...  ...   \n",
       "95                 Maybe                 No              No  NaN   \n",
       "96                 Maybe         Don't know              No  NaN   \n",
       "97                   Yes                 No              No  NaN   \n",
       "98                 Maybe                 No              No  NaN   \n",
       "99                 Maybe                Yes              No  NaN   \n",
       "\n",
       "   mental_health mental_health_diagnosed obs_neg_response physical_importance  \\\n",
       "0            NaN                     NaN              NaN                 NaN   \n",
       "1            NaN                     NaN              NaN                 NaN   \n",
       "2            NaN                     NaN              NaN                 NaN   \n",
       "3            NaN                     NaN              NaN                 NaN   \n",
       "4            NaN                     NaN              NaN                 NaN   \n",
       "..           ...                     ...              ...                 ...   \n",
       "95           NaN                     NaN              NaN                 NaN   \n",
       "96           NaN                     NaN              NaN                 NaN   \n",
       "97           NaN                     NaN              NaN                 NaN   \n",
       "98           NaN                     NaN              NaN                 NaN   \n",
       "99           NaN                     NaN              NaN                 NaN   \n",
       "\n",
       "   mental_importance neg_consequence_coworker  \n",
       "0                NaN                      NaN  \n",
       "1                NaN                      NaN  \n",
       "2                NaN                      NaN  \n",
       "3                NaN                      NaN  \n",
       "4                NaN                      NaN  \n",
       "..               ...                      ...  \n",
       "95               NaN                      NaN  \n",
       "96               NaN                      NaN  \n",
       "97               NaN                      NaN  \n",
       "98               NaN                      NaN  \n",
       "99               NaN                      NaN  \n",
       "\n",
       "[100 rows x 30 columns]"
      ]
     },
     "execution_count": 8,
     "metadata": {},
     "output_type": "execute_result"
    }
   ],
   "source": [
    "# Assign default values for each data type:\n",
    "fillInt = 0\n",
    "#fillString = 'NaN'\n",
    "fillFloat = 0.0\n",
    "\n",
    "# Create lists by data type\n",
    "intFeatures = ['age']\n",
    "stringFeatures = ['gender', 'country', 'self_employed', 'family_history', 'treatment', 'work_interfere',\n",
    "                 'no_employees', 'remote_work', 'tech_company', 'anonymity', 'leave', 'mental_health_consequence',\n",
    "                 'phys_health_consequence', 'coworkers', 'supervisor', 'mental_health_interview', 'phys_health_interview',\n",
    "                 'mental_vs_physical', 'obs_consequence', 'benefits', 'care_options', 'wellness_program',\n",
    "                 'seek_help']\n",
    "floatFeatures = []\n",
    "\n",
    "# fill NaNs with default datatype:\n",
    "for feature in data:\n",
    "    if feature in intFeatures:\n",
    "        data[feature] = data[feature].fillna(fillInt)\n",
    "    elif feature in stringFeatures:\n",
    "         data[feature] = data[feature].fillna(data[feature].mode().tolist()[0])\n",
    "    elif feature in floatFeatures:\n",
    "        data[feature] = data[feature].fillna(fillFloat)\n",
    "    else:\n",
    "        print(f'Error: Feature {feature} not recognized.')\n",
    "data.head(100)"
   ]
  },
  {
   "cell_type": "markdown",
   "metadata": {},
   "source": [
    "* Regroup gender into three levels: male, female and trans"
   ]
  },
  {
   "cell_type": "code",
   "execution_count": 9,
   "metadata": {
    "colab": {
     "base_uri": "https://localhost:8080/"
    },
    "id": "DAgJLUoBYzHI",
    "outputId": "624341db-ac27-479c-9b39-473cb56bde7d"
   },
   "outputs": [
    {
     "name": "stdout",
     "output_type": "stream",
     "text": [
      "['Female' 'M' 'Male' 'male' 'female' 'm' 'Male-ish' 'maile' 'Trans-female'\n",
      " 'Cis Female' 'F' 'something kinda male?' 'Cis Male' 'Woman' 'f' 'Mal'\n",
      " 'Male (CIS)' 'queer/she/they' 'non-binary' 'Femake' 'woman' 'Make' 'Nah'\n",
      " 'All' 'Enby' 'fluid' 'Genderqueer' 'Female ' 'Androgyne' 'Agender'\n",
      " 'cis-female/femme' 'Guy (-ish) ^_^' 'male leaning androgynous' 'Male '\n",
      " 'Man' 'Trans woman' 'msle' 'Neuter' 'Female (trans)' 'queer'\n",
      " 'Female (cis)' 'Mail' 'cis male' 'A little about you' 'Malr' 'p' 'femail'\n",
      " 'Cis Man' 'ostensibly male, unsure what that really means'\n",
      " 'Let\\'s keep it simple and say \"male\"' 'Non-binary' 'Identify as male'\n",
      " 'Non binary' 'Masculine' 'Cishet male' 'None' 'Female-identified'\n",
      " 'Nonbinary' 'agender' 'Questioning' 'I have a penis' 'rr' 'cis woman'\n",
      " 'Agender trans woman' 'femmina' 'Trans man' 'man' 'masculino'\n",
      " 'I am a Wookie' 'Trans non-binary/genderfluid' 'CIS Male'\n",
      " 'Non-binary and gender fluid' 'Femile' 'mail' 'FEMALE' 'female, she/her'\n",
      " 'mostly male' 'cisgender male' 'MAle' 'afab non-binary' 'MALE' 'b'\n",
      " 'male/he/him' 'homem cis' 'cis-het male' 'Non-binary/Agender']\n"
     ]
    }
   ],
   "source": [
    "gender = data['gender'].unique()\n",
    "print(gender)"
   ]
  },
  {
   "cell_type": "code",
   "execution_count": 10,
   "metadata": {
    "colab": {
     "base_uri": "https://localhost:8080/"
    },
    "id": "ci8qNBlHZWjt",
    "outputId": "76dccc56-193b-4c83-c4b0-9486616784c2"
   },
   "outputs": [
    {
     "name": "stdout",
     "output_type": "stream",
     "text": [
      "['female' 'male' 'trans']\n"
     ]
    }
   ],
   "source": [
    "# gender groups:\n",
    "\n",
    "male_str = [\"male\",'rr','mostly male','male/he/him','b','masculino','female, she/her', \"m\",'i have a penis', 'masculine','identify as male',\"male-ish\",'let\\'s keep it simple and say \"male\"', \"maile\", \"mal\", \"male (cis)\", \"make\", \"male \", \"man\",\"msle\", \"mail\", \"malr\",\"cis man\", \"Cis Male\", \"cis male\"]\n",
    "trans_str = [\"trans-female\",'non-binary/agender','cis-het male','homem cis','afab non-binary','cisgender male','femile',\"cis female\",'i am a wookie','trans man','agender trans woman','cis woman','questioning','nonbinary','non-binary and gender fluid','trans non-binary/genderfluid','non binary', \"something kinda male?\", \"queer/she/they\", \"non-binary\",\"nah\", \"all\", \"enby\", \"fluid\", \"genderqueer\", \"androgyne\", \"agender\", \"male leaning androgynous\", \"guy (-ish) ^_^\", \"trans woman\", \"neuter\", \"female (trans)\", \"queer\", \"ostensibly male, unsure what that really means\"]           \n",
    "female_str = ['femmina','female-identified','none', 'cishet male',\"f\", \"female\", \"woman\", \"femake\", \"female \",\"cis-female/femme\", \"female (cis)\", \"femail\"]\n",
    "\n",
    "for row, col in data.iterrows():\n",
    "\n",
    "    if str.lower(col.gender) in male_str:\n",
    "        data['gender'].replace(to_replace=col.gender, value='male', inplace=True)\n",
    "\n",
    "    if str.lower(col.gender) in female_str:\n",
    "        data['gender'].replace(to_replace=col.gender, value='female', inplace=True)\n",
    "\n",
    "    if str.lower(col.gender) in trans_str:\n",
    "        data['gender'].replace(to_replace=col.gender, value='trans', inplace=True)\n",
    "\n",
    "#filter out unnecessary factors\n",
    "stk_list = ['A little about you', 'p']\n",
    "data = data[~data['gender'].isin(stk_list)]\n",
    "\n",
    "print(data['gender'].unique())"
   ]
  },
  {
   "cell_type": "markdown",
   "metadata": {},
   "source": [
    "* Fill missing values"
   ]
  },
  {
   "cell_type": "code",
   "execution_count": 11,
   "metadata": {
    "id": "LytRp-MiZ3WM"
   },
   "outputs": [],
   "source": [
    "#complete missing age with mean\n",
    "data['age'].fillna(data['age'].mean(), inplace = True)\n",
    "\n",
    "# Fill with median() values < 18 and > 120\n",
    "s = pd.Series(data['age'])\n",
    "s[s<18] = data['age'].median()\n",
    "data['age'] = s\n",
    "s = pd.Series(data['age'])\n",
    "s[s>120] = data['age'].median()\n",
    "data['age'] = s\n",
    "\n",
    "#Ranges of age\n",
    "data['age_range'] = pd.cut(data['age'], [0,20,30,65,100], labels=[\"0-20\", \"21-30\", \"31-65\", \"66-100\"], include_lowest=True)"
   ]
  },
  {
   "cell_type": "markdown",
   "metadata": {},
   "source": [
    "* Drop new column, unnamed: 0"
   ]
  },
  {
   "cell_type": "code",
   "execution_count": 12,
   "metadata": {},
   "outputs": [
    {
     "data": {
      "text/plain": [
       "Index(['age', 'gender', 'self_employed', 'family_history', 'treatment',\n",
       "       'work_interfere', 'no_employees', 'remote_work', 'tech_company',\n",
       "       'benefits', 'care_options', 'wellness_program', 'seek_help',\n",
       "       'anonymity', 'leave', 'mental_health_consequence',\n",
       "       'phys_health_consequence', 'coworkers', 'supervisor',\n",
       "       'mental_health_interview', 'phys_health_interview',\n",
       "       'mental_vs_physical', 'obs_consequence', 'race', 'mental_health',\n",
       "       'mental_health_diagnosed', 'obs_neg_response', 'physical_importance',\n",
       "       'mental_importance', 'neg_consequence_coworker', 'age_range'],\n",
       "      dtype='object')"
      ]
     },
     "execution_count": 12,
     "metadata": {},
     "output_type": "execute_result"
    }
   ],
   "source": [
    "data.columns"
   ]
  },
  {
   "cell_type": "code",
   "execution_count": 13,
   "metadata": {},
   "outputs": [
    {
     "name": "stdout",
     "output_type": "stream",
     "text": [
      "======== UNIQUE FACTORS IN age ======\n",
      "[37 44 32 31 33 35 39 42 23 29 36 27 46 41 34 30 40 38 50 24 18 28 26 22\n",
      " 19 25 45 21 43 56 60 54 55 48 20 57 58 47 62 51 65 49 53 61 72 52 64 63\n",
      " 59]\n",
      "======== UNIQUE FACTORS IN gender ======\n",
      "['female' 'male' 'trans']\n",
      "======== UNIQUE FACTORS IN self_employed ======\n",
      "['No' 'Yes' False True]\n",
      "======== UNIQUE FACTORS IN family_history ======\n",
      "['No' 'Yes' \"I don't know\"]\n",
      "======== UNIQUE FACTORS IN treatment ======\n",
      "['Yes' 'No' False True]\n",
      "======== UNIQUE FACTORS IN work_interfere ======\n",
      "['Often' 'Rarely' 'Never' 'Sometimes' 'Not applicable to me']\n",
      "======== UNIQUE FACTORS IN no_employees ======\n",
      "['Jun-25' 'More than 1000' '26-100' '100-500' '01-May' '500-1000' '6-25'\n",
      " '1-5']\n",
      "======== UNIQUE FACTORS IN remote_work ======\n",
      "['No' 'Yes']\n",
      "======== UNIQUE FACTORS IN tech_company ======\n",
      "['Yes' 'No' True False]\n",
      "======== UNIQUE FACTORS IN benefits ======\n",
      "['Yes' \"Don't know\" 'No' \"I don't know\" 'Not eligible for coverage / NA']\n",
      "======== UNIQUE FACTORS IN care_options ======\n",
      "['Not sure' 'No' 'Yes']\n",
      "======== UNIQUE FACTORS IN wellness_program ======\n",
      "['No' \"Don't know\" 'Yes' \"I don't know\"]\n",
      "======== UNIQUE FACTORS IN seek_help ======\n",
      "['Yes' \"Don't know\" 'No' \"I don't know\"]\n",
      "======== UNIQUE FACTORS IN anonymity ======\n",
      "['Yes' \"Don't know\" 'No' \"I don't know\"]\n",
      "======== UNIQUE FACTORS IN leave ======\n",
      "['Somewhat easy' \"Don't know\" 'Somewhat difficult' 'Very difficult'\n",
      " 'Very easy' \"I don't know\" 'Neither easy nor difficult' 'Difficult']\n",
      "======== UNIQUE FACTORS IN mental_health_consequence ======\n",
      "['No' 'Maybe' 'Yes']\n",
      "======== UNIQUE FACTORS IN phys_health_consequence ======\n",
      "['No' 'Yes' 'Maybe']\n",
      "======== UNIQUE FACTORS IN coworkers ======\n",
      "['Some of them' 'No' 'Yes' 'Maybe']\n",
      "======== UNIQUE FACTORS IN supervisor ======\n",
      "['Yes' 'No' 'Some of them' 'Maybe']\n",
      "======== UNIQUE FACTORS IN mental_health_interview ======\n",
      "['No' 'Yes' 'Maybe']\n",
      "======== UNIQUE FACTORS IN phys_health_interview ======\n",
      "['Maybe' 'No' 'Yes']\n",
      "======== UNIQUE FACTORS IN mental_vs_physical ======\n",
      "['Yes' \"Don't know\" 'No' 'Physical health'\n",
      " 'Same level of comfort for each' 'Mental health']\n",
      "======== UNIQUE FACTORS IN obs_consequence ======\n",
      "['No' 'Yes']\n",
      "======== UNIQUE FACTORS IN race ======\n",
      "[nan 'White' 'I prefer not to answer' 'More than one of the above' 'Asian'\n",
      " 'Black or African American' 'Hispanic' 'White Hispanic'\n",
      " 'European American' 'Caucasian']\n",
      "======== UNIQUE FACTORS IN mental_health ======\n",
      "[nan \"Don't Know\" 'Possibly' 'No' 'Yes']\n",
      "======== UNIQUE FACTORS IN mental_health_diagnosed ======\n",
      "[nan 'Yes' 'No']\n",
      "======== UNIQUE FACTORS IN obs_neg_response ======\n",
      "[nan 'No' 'Yes, I observed' 'Maybe/Not sure' 'Yes, I experienced'\n",
      " \"I've always been self-employed\"]\n",
      "======== UNIQUE FACTORS IN physical_importance ======\n",
      "[nan  5.  1.  4.  6.  8.  7. 10.  9.  3.  0.  2.]\n",
      "======== UNIQUE FACTORS IN mental_importance ======\n",
      "[nan  5.  7.  4.  3.  8.  2.  9.  6. 10.  1.  0.]\n",
      "======== UNIQUE FACTORS IN neg_consequence_coworker ======\n",
      "[nan 'No' 'Maybe' 'Yes']\n",
      "======== UNIQUE FACTORS IN age_range ======\n",
      "['31-65', '21-30', '0-20', '66-100']\n",
      "Categories (4, object): ['0-20' < '21-30' < '31-65' < '66-100']\n"
     ]
    }
   ],
   "source": [
    "features = data.columns\n",
    "\n",
    "for feature in features:\n",
    "    print(f\"======== UNIQUE FACTORS IN {feature} ======\")\n",
    "    print(data[feature].unique())\n",
    "   "
   ]
  },
  {
   "cell_type": "markdown",
   "metadata": {},
   "source": [
    "* Replace all boolean values with \"Yes\" and \"No\""
   ]
  },
  {
   "cell_type": "code",
   "execution_count": 14,
   "metadata": {},
   "outputs": [],
   "source": [
    "features = data.columns\n",
    "\n",
    "for feature in features:\n",
    "    data[feature] = data[feature].replace(True, 'Yes')\n",
    "    data[feature] = data[feature].replace(False, 'No')\n",
    "    "
   ]
  },
  {
   "cell_type": "code",
   "execution_count": 15,
   "metadata": {},
   "outputs": [
    {
     "name": "stdout",
     "output_type": "stream",
     "text": [
      " 1 ======== UNIQUE FACTORS IN age ======\n",
      "[37 44 32 31 33 35 39 42 23 29 36 27 46 41 34 30 40 38 50 24 18 28 26 22\n",
      " 19 25 45 21 43 56 60 54 55 48 20 57 58 47 62 51 65 49 53 61 72 52 64 63\n",
      " 59]\n",
      "\n",
      "\n",
      " 2 ======== UNIQUE FACTORS IN gender ======\n",
      "['female' 'male' 'trans']\n",
      "\n",
      "\n",
      " 3 ======== UNIQUE FACTORS IN self_employed ======\n",
      "['No' 'Yes']\n",
      "\n",
      "\n",
      " 4 ======== UNIQUE FACTORS IN family_history ======\n",
      "['No' 'Yes' \"I don't know\"]\n",
      "\n",
      "\n",
      " 5 ======== UNIQUE FACTORS IN treatment ======\n",
      "['Yes' 'No']\n",
      "\n",
      "\n",
      " 6 ======== UNIQUE FACTORS IN work_interfere ======\n",
      "['Often' 'Rarely' 'Never' 'Sometimes' 'Not applicable to me']\n",
      "\n",
      "\n",
      " 7 ======== UNIQUE FACTORS IN no_employees ======\n",
      "['Jun-25' 'More than 1000' '26-100' '100-500' '01-May' '500-1000' '6-25'\n",
      " '1-5']\n",
      "\n",
      "\n",
      " 8 ======== UNIQUE FACTORS IN remote_work ======\n",
      "['No' 'Yes']\n",
      "\n",
      "\n",
      " 9 ======== UNIQUE FACTORS IN tech_company ======\n",
      "['Yes' 'No']\n",
      "\n",
      "\n",
      " 10 ======== UNIQUE FACTORS IN benefits ======\n",
      "['Yes' \"Don't know\" 'No' \"I don't know\" 'Not eligible for coverage / NA']\n",
      "\n",
      "\n",
      " 11 ======== UNIQUE FACTORS IN care_options ======\n",
      "['Not sure' 'No' 'Yes']\n",
      "\n",
      "\n",
      " 12 ======== UNIQUE FACTORS IN wellness_program ======\n",
      "['No' \"Don't know\" 'Yes' \"I don't know\"]\n",
      "\n",
      "\n",
      " 13 ======== UNIQUE FACTORS IN seek_help ======\n",
      "['Yes' \"Don't know\" 'No' \"I don't know\"]\n",
      "\n",
      "\n",
      " 14 ======== UNIQUE FACTORS IN anonymity ======\n",
      "['Yes' \"Don't know\" 'No' \"I don't know\"]\n",
      "\n",
      "\n",
      " 15 ======== UNIQUE FACTORS IN leave ======\n",
      "['Somewhat easy' \"Don't know\" 'Somewhat difficult' 'Very difficult'\n",
      " 'Very easy' \"I don't know\" 'Neither easy nor difficult' 'Difficult']\n",
      "\n",
      "\n",
      " 16 ======== UNIQUE FACTORS IN mental_health_consequence ======\n",
      "['No' 'Maybe' 'Yes']\n",
      "\n",
      "\n",
      " 17 ======== UNIQUE FACTORS IN phys_health_consequence ======\n",
      "['No' 'Yes' 'Maybe']\n",
      "\n",
      "\n",
      " 18 ======== UNIQUE FACTORS IN coworkers ======\n",
      "['Some of them' 'No' 'Yes' 'Maybe']\n",
      "\n",
      "\n",
      " 19 ======== UNIQUE FACTORS IN supervisor ======\n",
      "['Yes' 'No' 'Some of them' 'Maybe']\n",
      "\n",
      "\n",
      " 20 ======== UNIQUE FACTORS IN mental_health_interview ======\n",
      "['No' 'Yes' 'Maybe']\n",
      "\n",
      "\n",
      " 21 ======== UNIQUE FACTORS IN phys_health_interview ======\n",
      "['Maybe' 'No' 'Yes']\n",
      "\n",
      "\n",
      " 22 ======== UNIQUE FACTORS IN mental_vs_physical ======\n",
      "['Yes' \"Don't know\" 'No' 'Physical health'\n",
      " 'Same level of comfort for each' 'Mental health']\n",
      "\n",
      "\n",
      " 23 ======== UNIQUE FACTORS IN obs_consequence ======\n",
      "['No' 'Yes']\n",
      "\n",
      "\n",
      " 24 ======== UNIQUE FACTORS IN race ======\n",
      "[nan 'White' 'I prefer not to answer' 'More than one of the above' 'Asian'\n",
      " 'Black or African American' 'Hispanic' 'White Hispanic'\n",
      " 'European American' 'Caucasian']\n",
      "\n",
      "\n",
      " 25 ======== UNIQUE FACTORS IN mental_health ======\n",
      "[nan \"Don't Know\" 'Possibly' 'No' 'Yes']\n",
      "\n",
      "\n",
      " 26 ======== UNIQUE FACTORS IN mental_health_diagnosed ======\n",
      "[nan 'Yes' 'No']\n",
      "\n",
      "\n",
      " 27 ======== UNIQUE FACTORS IN obs_neg_response ======\n",
      "[nan 'No' 'Yes, I observed' 'Maybe/Not sure' 'Yes, I experienced'\n",
      " \"I've always been self-employed\"]\n",
      "\n",
      "\n",
      " 28 ======== UNIQUE FACTORS IN physical_importance ======\n",
      "[nan  5.  1.  4.  6.  8.  7. 10.  9.  3.  0.  2.]\n",
      "\n",
      "\n",
      " 29 ======== UNIQUE FACTORS IN mental_importance ======\n",
      "[nan  5.  7.  4.  3.  8.  2.  9.  6. 10.  1.  0.]\n",
      "\n",
      "\n",
      " 30 ======== UNIQUE FACTORS IN neg_consequence_coworker ======\n",
      "[nan 'No' 'Maybe' 'Yes']\n",
      "\n",
      "\n",
      " 31 ======== UNIQUE FACTORS IN age_range ======\n",
      "['31-65', '21-30', '0-20', '66-100']\n",
      "Categories (4, object): ['0-20' < '21-30' < '31-65' < '66-100']\n",
      "\n",
      "\n"
     ]
    }
   ],
   "source": [
    "features = data.columns\n",
    "\n",
    "counter = 1\n",
    "for feature in features:\n",
    "    print(f\" {counter} ======== UNIQUE FACTORS IN {feature} ======\")\n",
    "    print(data[feature].unique())\n",
    "    counter += 1\n",
    "    print(\"\\n\")"
   ]
  },
  {
   "cell_type": "code",
   "execution_count": 16,
   "metadata": {},
   "outputs": [
    {
     "name": "stdout",
     "output_type": "stream",
     "text": [
      "                           Total   Percent\n",
      "mental_health_diagnosed     1679  0.874479\n",
      "race                        1603  0.834896\n",
      "neg_consequence_coworker    1388  0.722917\n",
      "mental_importance           1347  0.701562\n",
      "physical_importance         1347  0.701562\n",
      "obs_neg_response            1257  0.654687\n",
      "mental_health               1257  0.654687\n",
      "age                            0  0.000000\n",
      "phys_health_consequence        0  0.000000\n",
      "obs_consequence                0  0.000000\n",
      "mental_vs_physical             0  0.000000\n",
      "phys_health_interview          0  0.000000\n",
      "mental_health_interview        0  0.000000\n",
      "supervisor                     0  0.000000\n",
      "coworkers                      0  0.000000\n",
      "mental_health_consequence      0  0.000000\n",
      "gender                         0  0.000000\n",
      "leave                          0  0.000000\n",
      "anonymity                      0  0.000000\n",
      "seek_help                      0  0.000000\n",
      "wellness_program               0  0.000000\n",
      "care_options                   0  0.000000\n",
      "benefits                       0  0.000000\n",
      "tech_company                   0  0.000000\n",
      "remote_work                    0  0.000000\n",
      "no_employees                   0  0.000000\n",
      "work_interfere                 0  0.000000\n",
      "treatment                      0  0.000000\n",
      "family_history                 0  0.000000\n",
      "self_employed                  0  0.000000\n",
      "age_range                      0  0.000000\n"
     ]
    }
   ],
   "source": [
    "total_missing = data.isnull().sum().sort_values(ascending=False)\n",
    "percent = (data.isnull().sum()/data.isnull().count()).sort_values(ascending=False)\n",
    "missing_data = pd.concat([total_missing, percent], axis=1, keys=['Total', 'Percent'])\n",
    "missing_data.head(20)\n",
    "print(missing_data)"
   ]
  },
  {
   "cell_type": "markdown",
   "metadata": {},
   "source": [
    "* Replace NaNs with the second most frequently occuring factor in each feature"
   ]
  },
  {
   "cell_type": "code",
   "execution_count": 17,
   "metadata": {},
   "outputs": [],
   "source": [
    "nan_list = data.columns.tolist()\n",
    "\n",
    "for feature in nan_list:\n",
    "    data[feature] = data[feature].fillna(list(data[feature].value_counts(dropna=False).to_dict().keys())[1])\n"
   ]
  },
  {
   "cell_type": "code",
   "execution_count": 18,
   "metadata": {},
   "outputs": [
    {
     "data": {
      "text/html": [
       "<div>\n",
       "<style scoped>\n",
       "    .dataframe tbody tr th:only-of-type {\n",
       "        vertical-align: middle;\n",
       "    }\n",
       "\n",
       "    .dataframe tbody tr th {\n",
       "        vertical-align: top;\n",
       "    }\n",
       "\n",
       "    .dataframe thead th {\n",
       "        text-align: right;\n",
       "    }\n",
       "</style>\n",
       "<table border=\"1\" class=\"dataframe\">\n",
       "  <thead>\n",
       "    <tr style=\"text-align: right;\">\n",
       "      <th></th>\n",
       "      <th>age</th>\n",
       "      <th>gender</th>\n",
       "      <th>self_employed</th>\n",
       "      <th>family_history</th>\n",
       "      <th>treatment</th>\n",
       "      <th>work_interfere</th>\n",
       "      <th>no_employees</th>\n",
       "      <th>remote_work</th>\n",
       "      <th>tech_company</th>\n",
       "      <th>benefits</th>\n",
       "      <th>...</th>\n",
       "      <th>mental_vs_physical</th>\n",
       "      <th>obs_consequence</th>\n",
       "      <th>race</th>\n",
       "      <th>mental_health</th>\n",
       "      <th>mental_health_diagnosed</th>\n",
       "      <th>obs_neg_response</th>\n",
       "      <th>physical_importance</th>\n",
       "      <th>mental_importance</th>\n",
       "      <th>neg_consequence_coworker</th>\n",
       "      <th>age_range</th>\n",
       "    </tr>\n",
       "  </thead>\n",
       "  <tbody>\n",
       "    <tr>\n",
       "      <th>0</th>\n",
       "      <td>37</td>\n",
       "      <td>female</td>\n",
       "      <td>No</td>\n",
       "      <td>No</td>\n",
       "      <td>Yes</td>\n",
       "      <td>Often</td>\n",
       "      <td>Jun-25</td>\n",
       "      <td>No</td>\n",
       "      <td>Yes</td>\n",
       "      <td>Yes</td>\n",
       "      <td>...</td>\n",
       "      <td>Yes</td>\n",
       "      <td>No</td>\n",
       "      <td>White</td>\n",
       "      <td>Yes</td>\n",
       "      <td>Yes</td>\n",
       "      <td>No</td>\n",
       "      <td>5.0</td>\n",
       "      <td>5.0</td>\n",
       "      <td>No</td>\n",
       "      <td>31-65</td>\n",
       "    </tr>\n",
       "    <tr>\n",
       "      <th>1</th>\n",
       "      <td>44</td>\n",
       "      <td>male</td>\n",
       "      <td>No</td>\n",
       "      <td>No</td>\n",
       "      <td>No</td>\n",
       "      <td>Rarely</td>\n",
       "      <td>More than 1000</td>\n",
       "      <td>No</td>\n",
       "      <td>No</td>\n",
       "      <td>Don't know</td>\n",
       "      <td>...</td>\n",
       "      <td>Don't know</td>\n",
       "      <td>No</td>\n",
       "      <td>White</td>\n",
       "      <td>Yes</td>\n",
       "      <td>Yes</td>\n",
       "      <td>No</td>\n",
       "      <td>5.0</td>\n",
       "      <td>5.0</td>\n",
       "      <td>No</td>\n",
       "      <td>31-65</td>\n",
       "    </tr>\n",
       "    <tr>\n",
       "      <th>2</th>\n",
       "      <td>32</td>\n",
       "      <td>male</td>\n",
       "      <td>No</td>\n",
       "      <td>No</td>\n",
       "      <td>No</td>\n",
       "      <td>Rarely</td>\n",
       "      <td>Jun-25</td>\n",
       "      <td>No</td>\n",
       "      <td>Yes</td>\n",
       "      <td>No</td>\n",
       "      <td>...</td>\n",
       "      <td>No</td>\n",
       "      <td>No</td>\n",
       "      <td>White</td>\n",
       "      <td>Yes</td>\n",
       "      <td>Yes</td>\n",
       "      <td>No</td>\n",
       "      <td>5.0</td>\n",
       "      <td>5.0</td>\n",
       "      <td>No</td>\n",
       "      <td>31-65</td>\n",
       "    </tr>\n",
       "    <tr>\n",
       "      <th>3</th>\n",
       "      <td>31</td>\n",
       "      <td>male</td>\n",
       "      <td>No</td>\n",
       "      <td>Yes</td>\n",
       "      <td>Yes</td>\n",
       "      <td>Often</td>\n",
       "      <td>26-100</td>\n",
       "      <td>No</td>\n",
       "      <td>Yes</td>\n",
       "      <td>No</td>\n",
       "      <td>...</td>\n",
       "      <td>No</td>\n",
       "      <td>Yes</td>\n",
       "      <td>White</td>\n",
       "      <td>Yes</td>\n",
       "      <td>Yes</td>\n",
       "      <td>No</td>\n",
       "      <td>5.0</td>\n",
       "      <td>5.0</td>\n",
       "      <td>No</td>\n",
       "      <td>31-65</td>\n",
       "    </tr>\n",
       "    <tr>\n",
       "      <th>4</th>\n",
       "      <td>31</td>\n",
       "      <td>male</td>\n",
       "      <td>No</td>\n",
       "      <td>No</td>\n",
       "      <td>No</td>\n",
       "      <td>Never</td>\n",
       "      <td>100-500</td>\n",
       "      <td>Yes</td>\n",
       "      <td>Yes</td>\n",
       "      <td>Yes</td>\n",
       "      <td>...</td>\n",
       "      <td>Don't know</td>\n",
       "      <td>No</td>\n",
       "      <td>White</td>\n",
       "      <td>Yes</td>\n",
       "      <td>Yes</td>\n",
       "      <td>No</td>\n",
       "      <td>5.0</td>\n",
       "      <td>5.0</td>\n",
       "      <td>No</td>\n",
       "      <td>31-65</td>\n",
       "    </tr>\n",
       "    <tr>\n",
       "      <th>...</th>\n",
       "      <td>...</td>\n",
       "      <td>...</td>\n",
       "      <td>...</td>\n",
       "      <td>...</td>\n",
       "      <td>...</td>\n",
       "      <td>...</td>\n",
       "      <td>...</td>\n",
       "      <td>...</td>\n",
       "      <td>...</td>\n",
       "      <td>...</td>\n",
       "      <td>...</td>\n",
       "      <td>...</td>\n",
       "      <td>...</td>\n",
       "      <td>...</td>\n",
       "      <td>...</td>\n",
       "      <td>...</td>\n",
       "      <td>...</td>\n",
       "      <td>...</td>\n",
       "      <td>...</td>\n",
       "      <td>...</td>\n",
       "      <td>...</td>\n",
       "    </tr>\n",
       "    <tr>\n",
       "      <th>1917</th>\n",
       "      <td>33</td>\n",
       "      <td>male</td>\n",
       "      <td>No</td>\n",
       "      <td>I don't know</td>\n",
       "      <td>Yes</td>\n",
       "      <td>Sometimes</td>\n",
       "      <td>26-100</td>\n",
       "      <td>No</td>\n",
       "      <td>Yes</td>\n",
       "      <td>No</td>\n",
       "      <td>...</td>\n",
       "      <td>Physical health</td>\n",
       "      <td>No</td>\n",
       "      <td>White</td>\n",
       "      <td>Yes</td>\n",
       "      <td>Yes</td>\n",
       "      <td>Yes, I experienced</td>\n",
       "      <td>4.0</td>\n",
       "      <td>1.0</td>\n",
       "      <td>No</td>\n",
       "      <td>31-65</td>\n",
       "    </tr>\n",
       "    <tr>\n",
       "      <th>1918</th>\n",
       "      <td>49</td>\n",
       "      <td>male</td>\n",
       "      <td>No</td>\n",
       "      <td>Yes</td>\n",
       "      <td>No</td>\n",
       "      <td>Not applicable to me</td>\n",
       "      <td>100-500</td>\n",
       "      <td>No</td>\n",
       "      <td>Yes</td>\n",
       "      <td>No</td>\n",
       "      <td>...</td>\n",
       "      <td>Physical health</td>\n",
       "      <td>No</td>\n",
       "      <td>White</td>\n",
       "      <td>No</td>\n",
       "      <td>Yes</td>\n",
       "      <td>No</td>\n",
       "      <td>8.0</td>\n",
       "      <td>5.0</td>\n",
       "      <td>No</td>\n",
       "      <td>31-65</td>\n",
       "    </tr>\n",
       "    <tr>\n",
       "      <th>1919</th>\n",
       "      <td>28</td>\n",
       "      <td>male</td>\n",
       "      <td>Yes</td>\n",
       "      <td>No</td>\n",
       "      <td>No</td>\n",
       "      <td>Not applicable to me</td>\n",
       "      <td>More than 1000</td>\n",
       "      <td>No</td>\n",
       "      <td>Yes</td>\n",
       "      <td>Yes</td>\n",
       "      <td>...</td>\n",
       "      <td>Don't know</td>\n",
       "      <td>No</td>\n",
       "      <td>White</td>\n",
       "      <td>No</td>\n",
       "      <td>Yes</td>\n",
       "      <td>I've always been self-employed</td>\n",
       "      <td>5.0</td>\n",
       "      <td>5.0</td>\n",
       "      <td>No</td>\n",
       "      <td>21-30</td>\n",
       "    </tr>\n",
       "    <tr>\n",
       "      <th>1920</th>\n",
       "      <td>26</td>\n",
       "      <td>male</td>\n",
       "      <td>Yes</td>\n",
       "      <td>No</td>\n",
       "      <td>No</td>\n",
       "      <td>Sometimes</td>\n",
       "      <td>More than 1000</td>\n",
       "      <td>No</td>\n",
       "      <td>Yes</td>\n",
       "      <td>Yes</td>\n",
       "      <td>...</td>\n",
       "      <td>Don't know</td>\n",
       "      <td>No</td>\n",
       "      <td>White</td>\n",
       "      <td>Don't Know</td>\n",
       "      <td>Yes</td>\n",
       "      <td>Maybe/Not sure</td>\n",
       "      <td>5.0</td>\n",
       "      <td>5.0</td>\n",
       "      <td>Yes</td>\n",
       "      <td>21-30</td>\n",
       "    </tr>\n",
       "    <tr>\n",
       "      <th>1921</th>\n",
       "      <td>38</td>\n",
       "      <td>male</td>\n",
       "      <td>No</td>\n",
       "      <td>No</td>\n",
       "      <td>Yes</td>\n",
       "      <td>Sometimes</td>\n",
       "      <td>26-100</td>\n",
       "      <td>No</td>\n",
       "      <td>Yes</td>\n",
       "      <td>I don't know</td>\n",
       "      <td>...</td>\n",
       "      <td>Physical health</td>\n",
       "      <td>No</td>\n",
       "      <td>White</td>\n",
       "      <td>Yes</td>\n",
       "      <td>No</td>\n",
       "      <td>Yes, I observed</td>\n",
       "      <td>8.0</td>\n",
       "      <td>5.0</td>\n",
       "      <td>Maybe</td>\n",
       "      <td>31-65</td>\n",
       "    </tr>\n",
       "  </tbody>\n",
       "</table>\n",
       "<p>1920 rows × 31 columns</p>\n",
       "</div>"
      ],
      "text/plain": [
       "      age  gender self_employed family_history treatment  \\\n",
       "0      37  female            No             No       Yes   \n",
       "1      44    male            No             No        No   \n",
       "2      32    male            No             No        No   \n",
       "3      31    male            No            Yes       Yes   \n",
       "4      31    male            No             No        No   \n",
       "...   ...     ...           ...            ...       ...   \n",
       "1917   33    male            No   I don't know       Yes   \n",
       "1918   49    male            No            Yes        No   \n",
       "1919   28    male           Yes             No        No   \n",
       "1920   26    male           Yes             No        No   \n",
       "1921   38    male            No             No       Yes   \n",
       "\n",
       "            work_interfere    no_employees remote_work tech_company  \\\n",
       "0                    Often          Jun-25          No          Yes   \n",
       "1                   Rarely  More than 1000          No           No   \n",
       "2                   Rarely          Jun-25          No          Yes   \n",
       "3                    Often          26-100          No          Yes   \n",
       "4                    Never         100-500         Yes          Yes   \n",
       "...                    ...             ...         ...          ...   \n",
       "1917             Sometimes          26-100          No          Yes   \n",
       "1918  Not applicable to me         100-500          No          Yes   \n",
       "1919  Not applicable to me  More than 1000          No          Yes   \n",
       "1920             Sometimes  More than 1000          No          Yes   \n",
       "1921             Sometimes          26-100          No          Yes   \n",
       "\n",
       "          benefits  ... mental_vs_physical obs_consequence   race  \\\n",
       "0              Yes  ...                Yes              No  White   \n",
       "1       Don't know  ...         Don't know              No  White   \n",
       "2               No  ...                 No              No  White   \n",
       "3               No  ...                 No             Yes  White   \n",
       "4              Yes  ...         Don't know              No  White   \n",
       "...            ...  ...                ...             ...    ...   \n",
       "1917            No  ...    Physical health              No  White   \n",
       "1918            No  ...    Physical health              No  White   \n",
       "1919           Yes  ...         Don't know              No  White   \n",
       "1920           Yes  ...         Don't know              No  White   \n",
       "1921  I don't know  ...    Physical health              No  White   \n",
       "\n",
       "     mental_health mental_health_diagnosed                obs_neg_response  \\\n",
       "0              Yes                     Yes                              No   \n",
       "1              Yes                     Yes                              No   \n",
       "2              Yes                     Yes                              No   \n",
       "3              Yes                     Yes                              No   \n",
       "4              Yes                     Yes                              No   \n",
       "...            ...                     ...                             ...   \n",
       "1917           Yes                     Yes              Yes, I experienced   \n",
       "1918            No                     Yes                              No   \n",
       "1919            No                     Yes  I've always been self-employed   \n",
       "1920    Don't Know                     Yes                  Maybe/Not sure   \n",
       "1921           Yes                      No                 Yes, I observed   \n",
       "\n",
       "     physical_importance mental_importance neg_consequence_coworker age_range  \n",
       "0                    5.0               5.0                       No     31-65  \n",
       "1                    5.0               5.0                       No     31-65  \n",
       "2                    5.0               5.0                       No     31-65  \n",
       "3                    5.0               5.0                       No     31-65  \n",
       "4                    5.0               5.0                       No     31-65  \n",
       "...                  ...               ...                      ...       ...  \n",
       "1917                 4.0               1.0                       No     31-65  \n",
       "1918                 8.0               5.0                       No     31-65  \n",
       "1919                 5.0               5.0                       No     21-30  \n",
       "1920                 5.0               5.0                      Yes     21-30  \n",
       "1921                 8.0               5.0                    Maybe     31-65  \n",
       "\n",
       "[1920 rows x 31 columns]"
      ]
     },
     "execution_count": 18,
     "metadata": {},
     "output_type": "execute_result"
    }
   ],
   "source": [
    "data"
   ]
  },
  {
   "cell_type": "code",
   "execution_count": 19,
   "metadata": {},
   "outputs": [
    {
     "name": "stdout",
     "output_type": "stream",
     "text": [
      " 1 ======== UNIQUE FACTORS IN age ======\n",
      "[37 44 32 31 33 35 39 42 23 29 36 27 46 41 34 30 40 38 50 24 18 28 26 22\n",
      " 19 25 45 21 43 56 60 54 55 48 20 57 58 47 62 51 65 49 53 61 72 52 64 63\n",
      " 59]\n",
      "\n",
      "\n",
      " 2 ======== UNIQUE FACTORS IN gender ======\n",
      "['female' 'male' 'trans']\n",
      "\n",
      "\n",
      " 3 ======== UNIQUE FACTORS IN self_employed ======\n",
      "['No' 'Yes']\n",
      "\n",
      "\n",
      " 4 ======== UNIQUE FACTORS IN family_history ======\n",
      "['No' 'Yes' \"I don't know\"]\n",
      "\n",
      "\n",
      " 5 ======== UNIQUE FACTORS IN treatment ======\n",
      "['Yes' 'No']\n",
      "\n",
      "\n",
      " 6 ======== UNIQUE FACTORS IN work_interfere ======\n",
      "['Often' 'Rarely' 'Never' 'Sometimes' 'Not applicable to me']\n",
      "\n",
      "\n",
      " 7 ======== UNIQUE FACTORS IN no_employees ======\n",
      "['Jun-25' 'More than 1000' '26-100' '100-500' '01-May' '500-1000' '6-25'\n",
      " '1-5']\n",
      "\n",
      "\n",
      " 8 ======== UNIQUE FACTORS IN remote_work ======\n",
      "['No' 'Yes']\n",
      "\n",
      "\n",
      " 9 ======== UNIQUE FACTORS IN tech_company ======\n",
      "['Yes' 'No']\n",
      "\n",
      "\n",
      " 10 ======== UNIQUE FACTORS IN benefits ======\n",
      "['Yes' \"Don't know\" 'No' \"I don't know\" 'Not eligible for coverage / NA']\n",
      "\n",
      "\n",
      " 11 ======== UNIQUE FACTORS IN care_options ======\n",
      "['Not sure' 'No' 'Yes']\n",
      "\n",
      "\n",
      " 12 ======== UNIQUE FACTORS IN wellness_program ======\n",
      "['No' \"Don't know\" 'Yes' \"I don't know\"]\n",
      "\n",
      "\n",
      " 13 ======== UNIQUE FACTORS IN seek_help ======\n",
      "['Yes' \"Don't know\" 'No' \"I don't know\"]\n",
      "\n",
      "\n",
      " 14 ======== UNIQUE FACTORS IN anonymity ======\n",
      "['Yes' \"Don't know\" 'No' \"I don't know\"]\n",
      "\n",
      "\n",
      " 15 ======== UNIQUE FACTORS IN leave ======\n",
      "['Somewhat easy' \"Don't know\" 'Somewhat difficult' 'Very difficult'\n",
      " 'Very easy' \"I don't know\" 'Neither easy nor difficult' 'Difficult']\n",
      "\n",
      "\n",
      " 16 ======== UNIQUE FACTORS IN mental_health_consequence ======\n",
      "['No' 'Maybe' 'Yes']\n",
      "\n",
      "\n",
      " 17 ======== UNIQUE FACTORS IN phys_health_consequence ======\n",
      "['No' 'Yes' 'Maybe']\n",
      "\n",
      "\n",
      " 18 ======== UNIQUE FACTORS IN coworkers ======\n",
      "['Some of them' 'No' 'Yes' 'Maybe']\n",
      "\n",
      "\n",
      " 19 ======== UNIQUE FACTORS IN supervisor ======\n",
      "['Yes' 'No' 'Some of them' 'Maybe']\n",
      "\n",
      "\n",
      " 20 ======== UNIQUE FACTORS IN mental_health_interview ======\n",
      "['No' 'Yes' 'Maybe']\n",
      "\n",
      "\n",
      " 21 ======== UNIQUE FACTORS IN phys_health_interview ======\n",
      "['Maybe' 'No' 'Yes']\n",
      "\n",
      "\n",
      " 22 ======== UNIQUE FACTORS IN mental_vs_physical ======\n",
      "['Yes' \"Don't know\" 'No' 'Physical health'\n",
      " 'Same level of comfort for each' 'Mental health']\n",
      "\n",
      "\n",
      " 23 ======== UNIQUE FACTORS IN obs_consequence ======\n",
      "['No' 'Yes']\n",
      "\n",
      "\n",
      " 24 ======== UNIQUE FACTORS IN race ======\n",
      "['White' 'I prefer not to answer' 'More than one of the above' 'Asian'\n",
      " 'Black or African American' 'Hispanic' 'White Hispanic'\n",
      " 'European American' 'Caucasian']\n",
      "\n",
      "\n",
      " 25 ======== UNIQUE FACTORS IN mental_health ======\n",
      "['Yes' \"Don't Know\" 'Possibly' 'No']\n",
      "\n",
      "\n",
      " 26 ======== UNIQUE FACTORS IN mental_health_diagnosed ======\n",
      "['Yes' 'No']\n",
      "\n",
      "\n",
      " 27 ======== UNIQUE FACTORS IN obs_neg_response ======\n",
      "['No' 'Yes, I observed' 'Maybe/Not sure' 'Yes, I experienced'\n",
      " \"I've always been self-employed\"]\n",
      "\n",
      "\n",
      " 28 ======== UNIQUE FACTORS IN physical_importance ======\n",
      "[ 5.  1.  4.  6.  8.  7. 10.  9.  3.  0.  2.]\n",
      "\n",
      "\n",
      " 29 ======== UNIQUE FACTORS IN mental_importance ======\n",
      "[ 5.  7.  4.  3.  8.  2.  9.  6. 10.  1.  0.]\n",
      "\n",
      "\n",
      " 30 ======== UNIQUE FACTORS IN neg_consequence_coworker ======\n",
      "['No' 'Maybe' 'Yes']\n",
      "\n",
      "\n",
      " 31 ======== UNIQUE FACTORS IN age_range ======\n",
      "['31-65', '21-30', '0-20', '66-100']\n",
      "Categories (4, object): ['0-20' < '21-30' < '31-65' < '66-100']\n",
      "\n",
      "\n"
     ]
    }
   ],
   "source": [
    "features = data.columns\n",
    "\n",
    "counter = 1\n",
    "for feature in features:\n",
    "    print(f\" {counter} ======== UNIQUE FACTORS IN {feature} ======\")\n",
    "    print(data[feature].unique())\n",
    "    counter += 1\n",
    "    print(\"\\n\")"
   ]
  },
  {
   "cell_type": "markdown",
   "metadata": {
    "id": "vU9sRPnQaP2D"
   },
   "source": [
    "# Encoding Data"
   ]
  },
  {
   "cell_type": "code",
   "execution_count": 20,
   "metadata": {
    "colab": {
     "base_uri": "https://localhost:8080/"
    },
    "id": "VrFCOYpSaNrL",
    "outputId": "1115893e-7b32-4c7c-cd2b-56b49fedf919"
   },
   "outputs": [
    {
     "name": "stdout",
     "output_type": "stream",
     "text": [
      "label_age [18, 19, 20, 21, 22, 23, 24, 25, 26, 27, 28, 29, 30, 31, 32, 33, 34, 35, 36, 37, 38, 39, 40, 41, 42, 43, 44, 45, 46, 47, 48, 49, 50, 51, 52, 53, 54, 55, 56, 57, 58, 59, 60, 61, 62, 63, 64, 65, 72]\n",
      "label_gender ['female', 'male', 'trans']\n",
      "label_self_employed ['No', 'Yes']\n",
      "label_family_history [\"I don't know\", 'No', 'Yes']\n",
      "label_treatment ['No', 'Yes']\n",
      "label_work_interfere ['Never', 'Not applicable to me', 'Often', 'Rarely', 'Sometimes']\n",
      "label_no_employees ['01-May', '1-5', '100-500', '26-100', '500-1000', '6-25', 'Jun-25', 'More than 1000']\n",
      "label_remote_work ['No', 'Yes']\n",
      "label_tech_company ['No', 'Yes']\n",
      "label_benefits [\"Don't know\", \"I don't know\", 'No', 'Not eligible for coverage / NA', 'Yes']\n",
      "label_care_options ['No', 'Not sure', 'Yes']\n",
      "label_wellness_program [\"Don't know\", \"I don't know\", 'No', 'Yes']\n",
      "label_seek_help [\"Don't know\", \"I don't know\", 'No', 'Yes']\n",
      "label_anonymity [\"Don't know\", \"I don't know\", 'No', 'Yes']\n",
      "label_leave ['Difficult', \"Don't know\", \"I don't know\", 'Neither easy nor difficult', 'Somewhat difficult', 'Somewhat easy', 'Very difficult', 'Very easy']\n",
      "label_mental_health_consequence ['Maybe', 'No', 'Yes']\n",
      "label_phys_health_consequence ['Maybe', 'No', 'Yes']\n",
      "label_coworkers ['Maybe', 'No', 'Some of them', 'Yes']\n",
      "label_supervisor ['Maybe', 'No', 'Some of them', 'Yes']\n",
      "label_mental_health_interview ['Maybe', 'No', 'Yes']\n",
      "label_phys_health_interview ['Maybe', 'No', 'Yes']\n",
      "label_mental_vs_physical [\"Don't know\", 'Mental health', 'No', 'Physical health', 'Same level of comfort for each', 'Yes']\n",
      "label_obs_consequence ['No', 'Yes']\n",
      "label_race ['Asian', 'Black or African American', 'Caucasian', 'European American', 'Hispanic', 'I prefer not to answer', 'More than one of the above', 'White', 'White Hispanic']\n",
      "label_mental_health [\"Don't Know\", 'No', 'Possibly', 'Yes']\n",
      "label_mental_health_diagnosed ['No', 'Yes']\n",
      "label_obs_neg_response [\"I've always been self-employed\", 'Maybe/Not sure', 'No', 'Yes, I experienced', 'Yes, I observed']\n",
      "label_physical_importance [0.0, 1.0, 2.0, 3.0, 4.0, 5.0, 6.0, 7.0, 8.0, 9.0, 10.0]\n",
      "label_mental_importance [0.0, 1.0, 2.0, 3.0, 4.0, 5.0, 6.0, 7.0, 8.0, 9.0, 10.0]\n",
      "label_neg_consequence_coworker ['Maybe', 'No', 'Yes']\n",
      "label_age_range ['0-20', '21-30', '31-65', '66-100']\n"
     ]
    }
   ],
   "source": [
    "#Encoding data\n",
    "labelDict = {}\n",
    "for feature in data:\n",
    "    le = preprocessing.LabelEncoder()\n",
    "    le.fit(data[feature])\n",
    "    le_name_mapping = dict(zip(le.classes_, le.transform(le.classes_)))\n",
    "    data[feature] = le.transform(data[feature])\n",
    "    \n",
    "    \n",
    "    # Get labels\n",
    "    labelKey = 'label_' + feature\n",
    "    labelValue = [*le_name_mapping]\n",
    "    labelDict[labelKey] = labelValue\n",
    "    \n",
    "for key, value in labelDict.items():     \n",
    "    print(key, value)"
   ]
  },
  {
   "cell_type": "markdown",
   "metadata": {
    "id": "4DNKbr_TajZa"
   },
   "source": [
    "### Double-check for missing values after encoding data"
   ]
  },
  {
   "cell_type": "code",
   "execution_count": 21,
   "metadata": {
    "colab": {
     "base_uri": "https://localhost:8080/"
    },
    "id": "cxlJqy9KadVC",
    "outputId": "e0f83c12-a467-46c4-c219-e61ea021f067"
   },
   "outputs": [
    {
     "name": "stdout",
     "output_type": "stream",
     "text": [
      "                           Total  Percent\n",
      "age                            0      0.0\n",
      "phys_health_consequence        0      0.0\n",
      "neg_consequence_coworker       0      0.0\n",
      "mental_importance              0      0.0\n",
      "physical_importance            0      0.0\n",
      "obs_neg_response               0      0.0\n",
      "mental_health_diagnosed        0      0.0\n",
      "mental_health                  0      0.0\n",
      "race                           0      0.0\n",
      "obs_consequence                0      0.0\n",
      "mental_vs_physical             0      0.0\n",
      "phys_health_interview          0      0.0\n",
      "mental_health_interview        0      0.0\n",
      "supervisor                     0      0.0\n",
      "coworkers                      0      0.0\n",
      "mental_health_consequence      0      0.0\n",
      "gender                         0      0.0\n",
      "leave                          0      0.0\n",
      "anonymity                      0      0.0\n",
      "seek_help                      0      0.0\n",
      "wellness_program               0      0.0\n",
      "care_options                   0      0.0\n",
      "benefits                       0      0.0\n",
      "tech_company                   0      0.0\n",
      "remote_work                    0      0.0\n",
      "no_employees                   0      0.0\n",
      "work_interfere                 0      0.0\n",
      "treatment                      0      0.0\n",
      "family_history                 0      0.0\n",
      "self_employed                  0      0.0\n",
      "age_range                      0      0.0\n"
     ]
    }
   ],
   "source": [
    "total_missing = data.isnull().sum().sort_values(ascending=False)\n",
    "percent = (data.isnull().sum()/data.isnull().count()).sort_values(ascending=False)\n",
    "missing_data = pd.concat([total_missing, percent], axis=1, keys=['Total', 'Percent'])\n",
    "missing_data.head(20)\n",
    "print(missing_data)"
   ]
  },
  {
   "cell_type": "markdown",
   "metadata": {},
   "source": [
    "## train-test split"
   ]
  },
  {
   "cell_type": "code",
   "execution_count": 22,
   "metadata": {},
   "outputs": [],
   "source": [
    "X = data.drop('treatment', axis = 1)\n",
    "y = data.treatment"
   ]
  },
  {
   "cell_type": "code",
   "execution_count": 23,
   "metadata": {},
   "outputs": [],
   "source": [
    "# train-test split\n",
    "X_train, X_test, y_train, y_test = train_test_split(X, y, test_size=0.2, random_state=0)"
   ]
  },
  {
   "cell_type": "markdown",
   "metadata": {},
   "source": [
    "## Finding the best model (using the complete dataset features)"
   ]
  },
  {
   "cell_type": "markdown",
   "metadata": {},
   "source": [
    "* svc_full_feature\n",
    "* bdt_full_feature\n",
    "* gnb_full_feature"
   ]
  },
  {
   "cell_type": "markdown",
   "metadata": {},
   "source": [
    "### Using SVC"
   ]
  },
  {
   "cell_type": "code",
   "execution_count": 24,
   "metadata": {},
   "outputs": [
    {
     "data": {
      "text/plain": [
       "SVC(C=1, probability=True)"
      ]
     },
     "execution_count": 24,
     "metadata": {},
     "output_type": "execute_result"
    }
   ],
   "source": [
    "\n",
    "svc_full_feature = SVC(kernel='rbf', probability=True, gamma=\"scale\", C=1)\n",
    "svc_full_feature.fit(X_train, y_train)"
   ]
  },
  {
   "cell_type": "code",
   "execution_count": 25,
   "metadata": {},
   "outputs": [
    {
     "data": {
      "text/plain": [
       "array([1, 0, 1, 0, 1, 1, 1, 1, 0, 1, 1, 0, 0, 1, 1, 1, 1, 1, 0, 1, 0, 0,\n",
       "       1, 0, 0, 1, 1, 0, 0, 0, 0, 0, 1, 1, 1, 1, 0, 0, 0, 1, 1, 1, 1, 0,\n",
       "       1, 1, 1, 1, 1, 1, 1, 0, 0, 0, 1, 0, 1, 0, 1, 0, 1, 0, 1, 1, 1, 0,\n",
       "       1, 1, 1, 0, 1, 0, 0, 0, 1, 1, 0, 0, 0, 1, 1, 1, 1, 1, 1, 1, 0, 1,\n",
       "       0, 1, 1, 0, 1, 0, 1, 0, 1, 1, 1, 0, 0, 1, 1, 0, 1, 0, 0, 1, 1, 1,\n",
       "       0, 0, 1, 0, 1, 1, 1, 1, 1, 1, 0, 0, 0, 1, 0, 0, 1, 0, 1, 0, 1, 0,\n",
       "       0, 0, 1, 0, 1, 1, 0, 1, 0, 0, 1, 1, 0, 0, 1, 0, 0, 0, 0, 0, 1, 0,\n",
       "       1, 1, 1, 1, 0, 0, 1, 1, 1, 0, 1, 0, 1, 1, 1, 1, 1, 1, 1, 0, 0, 1,\n",
       "       0, 0, 1, 1, 1, 0, 0, 0, 0, 0, 1, 1, 1, 1, 1, 1, 0, 1, 0, 0, 1, 0,\n",
       "       0, 1, 0, 1, 0, 0, 0, 0, 1, 0, 1, 1, 0, 0, 0, 0, 1, 1, 0, 0, 0, 1,\n",
       "       0, 0, 1, 0, 1, 1, 0, 0, 0, 1, 0, 1, 1, 0, 0, 1, 0, 1, 0, 1, 0, 1,\n",
       "       1, 0, 1, 1, 0, 1, 0, 1, 1, 1, 0, 0, 1, 1, 1, 1, 1, 0, 1, 1, 0, 1,\n",
       "       0, 1, 1, 0, 0, 1, 0, 1, 1, 1, 0, 0, 1, 0, 0, 0, 0, 0, 0, 1, 1, 1,\n",
       "       1, 1, 1, 0, 0, 1, 0, 0, 1, 1, 0, 1, 1, 1, 0, 0, 0, 0, 1, 0, 1, 0,\n",
       "       1, 0, 1, 1, 1, 1, 0, 1, 0, 0, 1, 1, 0, 1, 1, 0, 0, 1, 1, 0, 1, 0,\n",
       "       0, 0, 0, 1, 0, 1, 1, 0, 1, 0, 0, 1, 1, 1, 0, 1, 1, 0, 0, 1, 0, 1,\n",
       "       1, 1, 1, 1, 1, 1, 0, 1, 0, 1, 0, 0, 0, 1, 1, 1, 1, 1, 1, 1, 0, 0,\n",
       "       1, 0, 1, 0, 0, 1, 1, 1, 1, 1])"
      ]
     },
     "execution_count": 25,
     "metadata": {},
     "output_type": "execute_result"
    }
   ],
   "source": [
    "result_svc_full_feature = svc_full_feature.predict(X_test)\n",
    "result_svc_full_feature"
   ]
  },
  {
   "cell_type": "code",
   "execution_count": 26,
   "metadata": {},
   "outputs": [
    {
     "data": {
      "text/html": [
       "<div>\n",
       "<style scoped>\n",
       "    .dataframe tbody tr th:only-of-type {\n",
       "        vertical-align: middle;\n",
       "    }\n",
       "\n",
       "    .dataframe tbody tr th {\n",
       "        vertical-align: top;\n",
       "    }\n",
       "\n",
       "    .dataframe thead th {\n",
       "        text-align: right;\n",
       "    }\n",
       "</style>\n",
       "<table border=\"1\" class=\"dataframe\">\n",
       "  <thead>\n",
       "    <tr style=\"text-align: right;\">\n",
       "      <th></th>\n",
       "      <th>Actual value</th>\n",
       "      <th>Predicted value</th>\n",
       "    </tr>\n",
       "  </thead>\n",
       "  <tbody>\n",
       "    <tr>\n",
       "      <th>361</th>\n",
       "      <td>1</td>\n",
       "      <td>1</td>\n",
       "    </tr>\n",
       "    <tr>\n",
       "      <th>1552</th>\n",
       "      <td>0</td>\n",
       "      <td>0</td>\n",
       "    </tr>\n",
       "    <tr>\n",
       "      <th>1248</th>\n",
       "      <td>1</td>\n",
       "      <td>1</td>\n",
       "    </tr>\n",
       "    <tr>\n",
       "      <th>1633</th>\n",
       "      <td>1</td>\n",
       "      <td>0</td>\n",
       "    </tr>\n",
       "    <tr>\n",
       "      <th>427</th>\n",
       "      <td>0</td>\n",
       "      <td>1</td>\n",
       "    </tr>\n",
       "    <tr>\n",
       "      <th>294</th>\n",
       "      <td>1</td>\n",
       "      <td>1</td>\n",
       "    </tr>\n",
       "    <tr>\n",
       "      <th>161</th>\n",
       "      <td>1</td>\n",
       "      <td>1</td>\n",
       "    </tr>\n",
       "    <tr>\n",
       "      <th>825</th>\n",
       "      <td>0</td>\n",
       "      <td>1</td>\n",
       "    </tr>\n",
       "    <tr>\n",
       "      <th>182</th>\n",
       "      <td>0</td>\n",
       "      <td>0</td>\n",
       "    </tr>\n",
       "    <tr>\n",
       "      <th>223</th>\n",
       "      <td>1</td>\n",
       "      <td>1</td>\n",
       "    </tr>\n",
       "  </tbody>\n",
       "</table>\n",
       "</div>"
      ],
      "text/plain": [
       "      Actual value  Predicted value\n",
       "361              1                1\n",
       "1552             0                0\n",
       "1248             1                1\n",
       "1633             1                0\n",
       "427              0                1\n",
       "294              1                1\n",
       "161              1                1\n",
       "825              0                1\n",
       "182              0                0\n",
       "223              1                1"
      ]
     },
     "execution_count": 26,
     "metadata": {},
     "output_type": "execute_result"
    }
   ],
   "source": [
    "a = pd.DataFrame({'Actual value': y_test, 'Predicted value': result_svc_full_feature})\n",
    "a.head(10)"
   ]
  },
  {
   "cell_type": "code",
   "execution_count": 27,
   "metadata": {},
   "outputs": [
    {
     "name": "stdout",
     "output_type": "stream",
     "text": [
      "[[130  64]\n",
      " [ 42 148]]\n"
     ]
    }
   ],
   "source": [
    "#Confusion Matrix of SVC\n",
    "svc_full_feature_cm = confusion_matrix(y_test, result_svc_full_feature)\n",
    "print(svc_full_feature_cm )"
   ]
  },
  {
   "cell_type": "code",
   "execution_count": 28,
   "metadata": {},
   "outputs": [
    {
     "name": "stdout",
     "output_type": "stream",
     "text": [
      "              precision    recall  f1-score   support\n",
      "\n",
      "           0       0.76      0.67      0.71       194\n",
      "           1       0.70      0.78      0.74       190\n",
      "\n",
      "    accuracy                           0.72       384\n",
      "   macro avg       0.73      0.72      0.72       384\n",
      "weighted avg       0.73      0.72      0.72       384\n",
      "\n"
     ]
    }
   ],
   "source": [
    "#Classification Report for SVC\n",
    "print(classification_report(y_test, result_svc_full_feature))"
   ]
  },
  {
   "cell_type": "markdown",
   "metadata": {},
   "source": [
    "### Using Boosted Decision Tree"
   ]
  },
  {
   "cell_type": "code",
   "execution_count": 29,
   "metadata": {},
   "outputs": [
    {
     "data": {
      "text/plain": [
       "AdaBoostClassifier(base_estimator=DecisionTreeClassifier(max_depth=5),\n",
       "                   n_estimators=500,\n",
       "                   random_state=RandomState(MT19937) at 0x136E5C79488)"
      ]
     },
     "execution_count": 29,
     "metadata": {},
     "output_type": "execute_result"
    }
   ],
   "source": [
    "# the DT is boosted using AdaBoost\n",
    "\n",
    "seed = np.random.RandomState(1)\n",
    "\n",
    "dt_full_feature = AdaBoostClassifier(\n",
    "    DecisionTreeClassifier(max_depth=5), n_estimators=500, random_state=seed\n",
    ")\n",
    "\n",
    "dt_full_feature.fit(X_train, y_train)"
   ]
  },
  {
   "cell_type": "code",
   "execution_count": 30,
   "metadata": {},
   "outputs": [
    {
     "data": {
      "text/plain": [
       "array([1, 0, 1, 0, 0, 1, 1, 1, 0, 1, 1, 0, 1, 1, 1, 1, 1, 1, 0, 1, 1, 0,\n",
       "       1, 0, 1, 0, 0, 1, 0, 0, 1, 0, 1, 0, 0, 1, 1, 0, 0, 1, 1, 0, 1, 1,\n",
       "       1, 1, 0, 1, 1, 1, 1, 1, 0, 0, 0, 0, 1, 0, 1, 0, 1, 0, 1, 1, 0, 1,\n",
       "       1, 1, 1, 0, 1, 0, 0, 0, 1, 1, 0, 0, 0, 1, 0, 0, 1, 0, 0, 1, 1, 1,\n",
       "       0, 1, 1, 1, 1, 1, 1, 0, 1, 1, 1, 1, 0, 1, 0, 0, 0, 0, 0, 1, 1, 0,\n",
       "       0, 0, 0, 0, 1, 1, 1, 1, 1, 0, 0, 0, 0, 1, 1, 1, 1, 0, 1, 0, 0, 0,\n",
       "       1, 1, 1, 0, 1, 1, 0, 1, 0, 1, 1, 1, 0, 0, 1, 0, 0, 0, 0, 0, 0, 1,\n",
       "       1, 1, 1, 1, 0, 0, 1, 1, 1, 1, 1, 0, 1, 1, 1, 1, 1, 1, 1, 0, 1, 1,\n",
       "       0, 0, 1, 1, 1, 0, 0, 1, 0, 0, 1, 1, 1, 1, 1, 1, 0, 1, 0, 0, 0, 1,\n",
       "       0, 0, 1, 0, 0, 0, 0, 0, 1, 0, 1, 1, 0, 0, 0, 1, 1, 1, 0, 0, 0, 1,\n",
       "       1, 0, 0, 0, 0, 1, 0, 0, 0, 1, 1, 0, 1, 0, 1, 0, 0, 0, 0, 0, 0, 0,\n",
       "       1, 0, 1, 1, 0, 1, 0, 1, 1, 1, 0, 0, 0, 0, 1, 1, 0, 0, 1, 1, 0, 0,\n",
       "       0, 1, 0, 1, 0, 1, 0, 0, 1, 1, 0, 1, 1, 0, 0, 0, 0, 0, 0, 1, 1, 0,\n",
       "       1, 1, 1, 0, 1, 1, 1, 0, 0, 0, 1, 1, 0, 1, 0, 0, 0, 0, 0, 1, 1, 1,\n",
       "       1, 0, 1, 1, 0, 1, 0, 0, 1, 0, 1, 1, 1, 0, 0, 0, 1, 0, 1, 1, 1, 0,\n",
       "       0, 0, 0, 0, 0, 1, 0, 0, 1, 0, 0, 1, 1, 0, 0, 1, 0, 0, 1, 1, 0, 1,\n",
       "       0, 1, 1, 0, 0, 1, 0, 1, 0, 1, 0, 0, 0, 1, 1, 1, 1, 1, 0, 1, 0, 0,\n",
       "       1, 0, 1, 1, 0, 1, 1, 1, 1, 1])"
      ]
     },
     "execution_count": 30,
     "metadata": {},
     "output_type": "execute_result"
    }
   ],
   "source": [
    "result_dt_full_feature = dt_full_feature.predict(X_test)\n",
    "result_dt_full_feature"
   ]
  },
  {
   "cell_type": "code",
   "execution_count": 31,
   "metadata": {},
   "outputs": [
    {
     "data": {
      "text/html": [
       "<div>\n",
       "<style scoped>\n",
       "    .dataframe tbody tr th:only-of-type {\n",
       "        vertical-align: middle;\n",
       "    }\n",
       "\n",
       "    .dataframe tbody tr th {\n",
       "        vertical-align: top;\n",
       "    }\n",
       "\n",
       "    .dataframe thead th {\n",
       "        text-align: right;\n",
       "    }\n",
       "</style>\n",
       "<table border=\"1\" class=\"dataframe\">\n",
       "  <thead>\n",
       "    <tr style=\"text-align: right;\">\n",
       "      <th></th>\n",
       "      <th>Actual value</th>\n",
       "      <th>Predicted value</th>\n",
       "    </tr>\n",
       "  </thead>\n",
       "  <tbody>\n",
       "    <tr>\n",
       "      <th>361</th>\n",
       "      <td>1</td>\n",
       "      <td>1</td>\n",
       "    </tr>\n",
       "    <tr>\n",
       "      <th>1552</th>\n",
       "      <td>0</td>\n",
       "      <td>0</td>\n",
       "    </tr>\n",
       "    <tr>\n",
       "      <th>1248</th>\n",
       "      <td>1</td>\n",
       "      <td>1</td>\n",
       "    </tr>\n",
       "    <tr>\n",
       "      <th>1633</th>\n",
       "      <td>1</td>\n",
       "      <td>0</td>\n",
       "    </tr>\n",
       "    <tr>\n",
       "      <th>427</th>\n",
       "      <td>0</td>\n",
       "      <td>0</td>\n",
       "    </tr>\n",
       "    <tr>\n",
       "      <th>294</th>\n",
       "      <td>1</td>\n",
       "      <td>1</td>\n",
       "    </tr>\n",
       "    <tr>\n",
       "      <th>161</th>\n",
       "      <td>1</td>\n",
       "      <td>1</td>\n",
       "    </tr>\n",
       "    <tr>\n",
       "      <th>825</th>\n",
       "      <td>0</td>\n",
       "      <td>1</td>\n",
       "    </tr>\n",
       "    <tr>\n",
       "      <th>182</th>\n",
       "      <td>0</td>\n",
       "      <td>0</td>\n",
       "    </tr>\n",
       "    <tr>\n",
       "      <th>223</th>\n",
       "      <td>1</td>\n",
       "      <td>1</td>\n",
       "    </tr>\n",
       "  </tbody>\n",
       "</table>\n",
       "</div>"
      ],
      "text/plain": [
       "      Actual value  Predicted value\n",
       "361              1                1\n",
       "1552             0                0\n",
       "1248             1                1\n",
       "1633             1                0\n",
       "427              0                0\n",
       "294              1                1\n",
       "161              1                1\n",
       "825              0                1\n",
       "182              0                0\n",
       "223              1                1"
      ]
     },
     "execution_count": 31,
     "metadata": {},
     "output_type": "execute_result"
    }
   ],
   "source": [
    "b = pd.DataFrame({'Actual value': y_test, 'Predicted value': result_dt_full_feature})\n",
    "b.head(10)"
   ]
  },
  {
   "cell_type": "code",
   "execution_count": 32,
   "metadata": {},
   "outputs": [
    {
     "name": "stdout",
     "output_type": "stream",
     "text": [
      "[[134  60]\n",
      " [ 51 139]]\n"
     ]
    }
   ],
   "source": [
    "#Confusion Matrix of BDT\n",
    "dt_full_feature_cm = confusion_matrix(y_test, result_dt_full_feature)\n",
    "print(dt_full_feature_cm )"
   ]
  },
  {
   "cell_type": "code",
   "execution_count": 33,
   "metadata": {},
   "outputs": [
    {
     "name": "stdout",
     "output_type": "stream",
     "text": [
      "              precision    recall  f1-score   support\n",
      "\n",
      "           0       0.72      0.69      0.71       194\n",
      "           1       0.70      0.73      0.71       190\n",
      "\n",
      "    accuracy                           0.71       384\n",
      "   macro avg       0.71      0.71      0.71       384\n",
      "weighted avg       0.71      0.71      0.71       384\n",
      "\n"
     ]
    }
   ],
   "source": [
    "#Classification Report for BDT\n",
    "print(classification_report(y_test, result_dt_full_feature))"
   ]
  },
  {
   "cell_type": "markdown",
   "metadata": {},
   "source": [
    "### Using Gaussian Naive Bayes"
   ]
  },
  {
   "cell_type": "code",
   "execution_count": 34,
   "metadata": {},
   "outputs": [
    {
     "data": {
      "text/plain": [
       "GaussianNB()"
      ]
     },
     "execution_count": 34,
     "metadata": {},
     "output_type": "execute_result"
    }
   ],
   "source": [
    "gnb_full_feature = GaussianNB()\n",
    "gnb_full_feature.fit(X_train, y_train)"
   ]
  },
  {
   "cell_type": "code",
   "execution_count": 35,
   "metadata": {},
   "outputs": [
    {
     "data": {
      "text/plain": [
       "array([1, 0, 1, 1, 1, 0, 1, 1, 0, 1, 1, 0, 1, 1, 1, 1, 1, 1, 0, 1, 0, 0,\n",
       "       0, 0, 0, 1, 0, 0, 0, 0, 0, 0, 1, 1, 1, 1, 0, 0, 0, 0, 1, 1, 1, 1,\n",
       "       1, 1, 1, 1, 1, 1, 1, 1, 0, 0, 1, 1, 0, 0, 1, 0, 1, 1, 1, 1, 1, 0,\n",
       "       1, 1, 1, 0, 1, 0, 0, 0, 1, 0, 0, 0, 1, 1, 0, 0, 1, 0, 1, 1, 0, 1,\n",
       "       0, 1, 1, 0, 1, 0, 1, 0, 1, 1, 1, 0, 0, 0, 1, 1, 1, 0, 0, 1, 1, 0,\n",
       "       0, 0, 1, 0, 0, 1, 1, 1, 1, 1, 0, 0, 0, 1, 1, 0, 1, 0, 1, 1, 0, 0,\n",
       "       0, 0, 1, 0, 1, 1, 0, 1, 0, 1, 1, 0, 0, 0, 0, 0, 0, 0, 0, 0, 0, 0,\n",
       "       1, 1, 1, 1, 0, 0, 1, 1, 1, 1, 1, 0, 1, 1, 1, 1, 1, 1, 1, 0, 1, 1,\n",
       "       0, 0, 1, 1, 1, 0, 0, 0, 1, 0, 1, 1, 1, 1, 1, 1, 0, 0, 0, 0, 1, 0,\n",
       "       0, 1, 0, 1, 0, 0, 0, 0, 1, 0, 1, 1, 0, 0, 0, 0, 1, 1, 0, 0, 0, 1,\n",
       "       1, 0, 1, 0, 0, 1, 0, 0, 0, 0, 0, 0, 0, 0, 1, 1, 0, 0, 0, 1, 0, 0,\n",
       "       1, 0, 1, 1, 0, 0, 0, 1, 1, 1, 0, 0, 1, 1, 1, 1, 1, 0, 1, 1, 0, 1,\n",
       "       0, 1, 1, 1, 0, 1, 1, 0, 1, 1, 0, 1, 1, 0, 0, 0, 1, 0, 0, 0, 1, 1,\n",
       "       1, 1, 1, 0, 1, 1, 0, 0, 1, 0, 0, 1, 1, 1, 0, 0, 0, 0, 1, 0, 1, 0,\n",
       "       0, 0, 1, 1, 0, 1, 0, 0, 0, 0, 1, 1, 1, 1, 0, 0, 0, 1, 1, 0, 1, 0,\n",
       "       0, 0, 1, 1, 0, 1, 1, 0, 1, 0, 1, 1, 1, 1, 0, 1, 1, 0, 0, 1, 0, 1,\n",
       "       1, 1, 1, 1, 0, 1, 0, 1, 0, 1, 0, 0, 0, 1, 1, 1, 1, 1, 0, 1, 0, 0,\n",
       "       1, 0, 1, 1, 0, 0, 1, 1, 1, 0])"
      ]
     },
     "execution_count": 35,
     "metadata": {},
     "output_type": "execute_result"
    }
   ],
   "source": [
    "result_gnb_full_feature = gnb_full_feature.predict(X_test)\n",
    "result_gnb_full_feature"
   ]
  },
  {
   "cell_type": "code",
   "execution_count": 36,
   "metadata": {},
   "outputs": [
    {
     "data": {
      "text/html": [
       "<div>\n",
       "<style scoped>\n",
       "    .dataframe tbody tr th:only-of-type {\n",
       "        vertical-align: middle;\n",
       "    }\n",
       "\n",
       "    .dataframe tbody tr th {\n",
       "        vertical-align: top;\n",
       "    }\n",
       "\n",
       "    .dataframe thead th {\n",
       "        text-align: right;\n",
       "    }\n",
       "</style>\n",
       "<table border=\"1\" class=\"dataframe\">\n",
       "  <thead>\n",
       "    <tr style=\"text-align: right;\">\n",
       "      <th></th>\n",
       "      <th>Actual value</th>\n",
       "      <th>Predicted value</th>\n",
       "    </tr>\n",
       "  </thead>\n",
       "  <tbody>\n",
       "    <tr>\n",
       "      <th>361</th>\n",
       "      <td>1</td>\n",
       "      <td>1</td>\n",
       "    </tr>\n",
       "    <tr>\n",
       "      <th>1552</th>\n",
       "      <td>0</td>\n",
       "      <td>0</td>\n",
       "    </tr>\n",
       "    <tr>\n",
       "      <th>1248</th>\n",
       "      <td>1</td>\n",
       "      <td>1</td>\n",
       "    </tr>\n",
       "    <tr>\n",
       "      <th>1633</th>\n",
       "      <td>1</td>\n",
       "      <td>1</td>\n",
       "    </tr>\n",
       "    <tr>\n",
       "      <th>427</th>\n",
       "      <td>0</td>\n",
       "      <td>1</td>\n",
       "    </tr>\n",
       "    <tr>\n",
       "      <th>294</th>\n",
       "      <td>1</td>\n",
       "      <td>0</td>\n",
       "    </tr>\n",
       "    <tr>\n",
       "      <th>161</th>\n",
       "      <td>1</td>\n",
       "      <td>1</td>\n",
       "    </tr>\n",
       "    <tr>\n",
       "      <th>825</th>\n",
       "      <td>0</td>\n",
       "      <td>1</td>\n",
       "    </tr>\n",
       "    <tr>\n",
       "      <th>182</th>\n",
       "      <td>0</td>\n",
       "      <td>0</td>\n",
       "    </tr>\n",
       "    <tr>\n",
       "      <th>223</th>\n",
       "      <td>1</td>\n",
       "      <td>1</td>\n",
       "    </tr>\n",
       "  </tbody>\n",
       "</table>\n",
       "</div>"
      ],
      "text/plain": [
       "      Actual value  Predicted value\n",
       "361              1                1\n",
       "1552             0                0\n",
       "1248             1                1\n",
       "1633             1                1\n",
       "427              0                1\n",
       "294              1                0\n",
       "161              1                1\n",
       "825              0                1\n",
       "182              0                0\n",
       "223              1                1"
      ]
     },
     "execution_count": 36,
     "metadata": {},
     "output_type": "execute_result"
    }
   ],
   "source": [
    "c = pd.DataFrame({'Actual value': y_test, 'Predicted value': result_gnb_full_feature})\n",
    "c.head(10)"
   ]
  },
  {
   "cell_type": "code",
   "execution_count": 37,
   "metadata": {},
   "outputs": [
    {
     "name": "stdout",
     "output_type": "stream",
     "text": [
      "[[140  54]\n",
      " [ 42 148]]\n"
     ]
    }
   ],
   "source": [
    "# Confusion Matrix of GNB\n",
    "gnb_full_feature_cm = confusion_matrix(y_test, result_gnb_full_feature)\n",
    "print(gnb_full_feature_cm)"
   ]
  },
  {
   "cell_type": "code",
   "execution_count": 38,
   "metadata": {},
   "outputs": [
    {
     "name": "stdout",
     "output_type": "stream",
     "text": [
      "              precision    recall  f1-score   support\n",
      "\n",
      "           0       0.77      0.72      0.74       194\n",
      "           1       0.73      0.78      0.76       190\n",
      "\n",
      "    accuracy                           0.75       384\n",
      "   macro avg       0.75      0.75      0.75       384\n",
      "weighted avg       0.75      0.75      0.75       384\n",
      "\n"
     ]
    }
   ],
   "source": [
    "# Classification Report for GBN\n",
    "print(classification_report(y_test, result_gnb_full_feature))"
   ]
  },
  {
   "cell_type": "markdown",
   "metadata": {},
   "source": [
    "# Actual values vs Predicted value by each model on the full features"
   ]
  },
  {
   "cell_type": "code",
   "execution_count": 42,
   "metadata": {},
   "outputs": [
    {
     "data": {
      "text/html": [
       "<div>\n",
       "<style scoped>\n",
       "    .dataframe tbody tr th:only-of-type {\n",
       "        vertical-align: middle;\n",
       "    }\n",
       "\n",
       "    .dataframe tbody tr th {\n",
       "        vertical-align: top;\n",
       "    }\n",
       "\n",
       "    .dataframe thead th {\n",
       "        text-align: right;\n",
       "    }\n",
       "</style>\n",
       "<table border=\"1\" class=\"dataframe\">\n",
       "  <thead>\n",
       "    <tr style=\"text-align: right;\">\n",
       "      <th></th>\n",
       "      <th>Actual</th>\n",
       "      <th>SVC</th>\n",
       "      <th>BDT</th>\n",
       "      <th>GNB</th>\n",
       "      <th>summary</th>\n",
       "    </tr>\n",
       "  </thead>\n",
       "  <tbody>\n",
       "    <tr>\n",
       "      <th>361</th>\n",
       "      <td>1</td>\n",
       "      <td>1</td>\n",
       "      <td>1</td>\n",
       "      <td>1</td>\n",
       "      <td>4</td>\n",
       "    </tr>\n",
       "    <tr>\n",
       "      <th>1552</th>\n",
       "      <td>0</td>\n",
       "      <td>0</td>\n",
       "      <td>0</td>\n",
       "      <td>0</td>\n",
       "      <td>0</td>\n",
       "    </tr>\n",
       "    <tr>\n",
       "      <th>1248</th>\n",
       "      <td>1</td>\n",
       "      <td>1</td>\n",
       "      <td>1</td>\n",
       "      <td>1</td>\n",
       "      <td>4</td>\n",
       "    </tr>\n",
       "    <tr>\n",
       "      <th>1633</th>\n",
       "      <td>1</td>\n",
       "      <td>0</td>\n",
       "      <td>0</td>\n",
       "      <td>1</td>\n",
       "      <td>2</td>\n",
       "    </tr>\n",
       "    <tr>\n",
       "      <th>427</th>\n",
       "      <td>0</td>\n",
       "      <td>1</td>\n",
       "      <td>0</td>\n",
       "      <td>1</td>\n",
       "      <td>2</td>\n",
       "    </tr>\n",
       "  </tbody>\n",
       "</table>\n",
       "</div>"
      ],
      "text/plain": [
       "      Actual  SVC  BDT  GNB  summary\n",
       "361   1       1    1    1    4      \n",
       "1552  0       0    0    0    0      \n",
       "1248  1       1    1    1    4      \n",
       "1633  1       0    0    1    2      \n",
       "427   0       1    0    1    2      "
      ]
     },
     "metadata": {},
     "output_type": "display_data"
    }
   ],
   "source": [
    "compare_full = pd.DataFrame({'Actual': y_test, 'SVC': result_svc_full_feature, 'BDT': result_dt_full_feature, 'GNB': result_gnb_full_feature})\n",
    "\n",
    "pd.set_option('display.max_rows', None)\n",
    "pd.set_option('display.max_columns', None)\n",
    "pd.set_option('display.width', None)\n",
    "pd.set_option('display.max_colwidth', -1)\n",
    "\n",
    "compare_full[\"summary\"] = compare_full.sum(axis=1)\n",
    "\n",
    "display(compare_full.head())"
   ]
  },
  {
   "cell_type": "code",
   "execution_count": 43,
   "metadata": {},
   "outputs": [
    {
     "data": {
      "text/plain": [
       "'[(4, 110), (0, 105)]'"
      ]
     },
     "execution_count": 43,
     "metadata": {},
     "output_type": "execute_result"
    }
   ],
   "source": [
    "summary = compare_full['summary'].tolist()\n",
    "count = Counter(summary).most_common(2)\n",
    "most_common = [paired for paired in count]\n",
    "common_text = str(most_common)\n",
    "common_text"
   ]
  },
  {
   "cell_type": "markdown",
   "metadata": {},
   "source": [
    "## Full features: Groups that are easier to classify by all 3 algos"
   ]
  },
  {
   "cell_type": "code",
   "execution_count": 45,
   "metadata": {},
   "outputs": [
    {
     "data": {
      "text/html": [
       "<div>\n",
       "<style scoped>\n",
       "    .dataframe tbody tr th:only-of-type {\n",
       "        vertical-align: middle;\n",
       "    }\n",
       "\n",
       "    .dataframe tbody tr th {\n",
       "        vertical-align: top;\n",
       "    }\n",
       "\n",
       "    .dataframe thead th {\n",
       "        text-align: right;\n",
       "    }\n",
       "</style>\n",
       "<table border=\"1\" class=\"dataframe\">\n",
       "  <thead>\n",
       "    <tr style=\"text-align: right;\">\n",
       "      <th></th>\n",
       "      <th>True Positive</th>\n",
       "      <th>True Negative</th>\n",
       "      <th>Mixed classification</th>\n",
       "    </tr>\n",
       "  </thead>\n",
       "  <tbody>\n",
       "    <tr>\n",
       "      <th>0</th>\n",
       "      <td>29%</td>\n",
       "      <td>27%</td>\n",
       "      <td>44%</td>\n",
       "    </tr>\n",
       "  </tbody>\n",
       "</table>\n",
       "</div>"
      ],
      "text/plain": [
       "  True Positive True Negative Mixed classification\n",
       "0  29%           27%           44%                "
      ]
     },
     "execution_count": 45,
     "metadata": {},
     "output_type": "execute_result"
    }
   ],
   "source": [
    "table_class = pd.DataFrame()\n",
    "table_class['True Positive'] = np.array([f\"{str(round((110/384)*100))}%\"])\n",
    "table_class['True Negative'] = np.array([f\"{str(round((105/384)*100))}%\"])\n",
    "table_class['Mixed classification'] = np.array([f\"{str(round((169/384)*100))}%\"])\n",
    "table_class"
   ]
  },
  {
   "cell_type": "code",
   "execution_count": 44,
   "metadata": {},
   "outputs": [
    {
     "data": {
      "text/plain": [
       "(384, 5)"
      ]
     },
     "execution_count": 44,
     "metadata": {},
     "output_type": "execute_result"
    }
   ],
   "source": [
    "compare_full.shape"
   ]
  },
  {
   "cell_type": "code",
   "execution_count": null,
   "metadata": {},
   "outputs": [
    {
     "name": "stdout",
     "output_type": "stream",
     "text": [
      "As the xlwt package is no longer maintained, the xlwt engine will be removed in a future version of pandas. This is the only engine in pandas that supports writing in the xls format. Install openpyxl and write to an xlsx file instead.\n",
      "\n",
      ": boolean\n",
      "    use_inf_as_null had been deprecated and will be removed in a future\n",
      "    version. Use `use_inf_as_na` instead.\n",
      "\n"
     ]
    }
   ],
   "source": [
    "# Resets the options\n",
    "pd.reset_option('all')"
   ]
  },
  {
   "cell_type": "code",
   "execution_count": null,
   "metadata": {},
   "outputs": [],
   "source": [
    "#compare_full.to_csv('actual_vs_models_pred_full.csv', index=True)"
   ]
  },
  {
   "cell_type": "markdown",
   "metadata": {},
   "source": [
    "## Select eight best features from Mental Health data"
   ]
  },
  {
   "cell_type": "code",
   "execution_count": null,
   "metadata": {},
   "outputs": [],
   "source": [
    "select_best = SelectKBest(score_func=chi2, k = 8)"
   ]
  },
  {
   "cell_type": "code",
   "execution_count": null,
   "metadata": {},
   "outputs": [],
   "source": [
    "X_reduced = select_best.fit_transform(X, y)"
   ]
  },
  {
   "cell_type": "code",
   "execution_count": null,
   "metadata": {},
   "outputs": [
    {
     "name": "stdout",
     "output_type": "stream",
     "text": [
      "After selecting best 8 features: (1920, 8)\n"
     ]
    }
   ],
   "source": [
    "print(\"After selecting best 8 features:\", X_reduced.shape)"
   ]
  },
  {
   "cell_type": "code",
   "execution_count": null,
   "metadata": {},
   "outputs": [
    {
     "name": "stdout",
     "output_type": "stream",
     "text": [
      "All features:\n",
      "['age' 'gender' 'self_employed' 'family_history' 'work_interfere'\n",
      " 'no_employees' 'remote_work' 'tech_company' 'benefits' 'care_options'\n",
      " 'wellness_program' 'seek_help' 'anonymity' 'leave'\n",
      " 'mental_health_consequence' 'phys_health_consequence' 'coworkers'\n",
      " 'supervisor' 'mental_health_interview' 'phys_health_interview'\n",
      " 'mental_vs_physical' 'obs_consequence' 'race' 'mental_health'\n",
      " 'mental_health_diagnosed' 'obs_neg_response' 'physical_importance'\n",
      " 'mental_importance' 'neg_consequence_coworker' 'age_range']\n",
      "\n",
      "\n",
      "=============\n",
      "Selected best 8:\n",
      "['age' 'family_history' 'work_interfere' 'benefits' 'care_options'\n",
      " 'anonymity' 'obs_consequence' 'mental_health']\n"
     ]
    }
   ],
   "source": [
    "filter = select_best.get_support()\n",
    "features = np.array(X.columns)\n",
    " \n",
    "\n",
    "print(\"All features:\")\n",
    "print(features)\n",
    " \n",
    "print('\\n')\n",
    "print('=============')\n",
    "\n",
    "print(\"Selected best 8:\")\n",
    "print(features[filter])\n"
   ]
  },
  {
   "cell_type": "code",
   "execution_count": null,
   "metadata": {},
   "outputs": [
    {
     "data": {
      "text/plain": [
       "array([[19,  1,  2, ...,  3,  0,  3],\n",
       "       [26,  1,  3, ...,  0,  0,  3],\n",
       "       [14,  1,  3, ...,  0,  0,  3],\n",
       "       ...,\n",
       "       [10,  1,  1, ...,  0,  0,  1],\n",
       "       [ 8,  1,  4, ...,  0,  0,  0],\n",
       "       [20,  1,  4, ...,  2,  0,  3]], dtype=int64)"
      ]
     },
     "execution_count": 46,
     "metadata": {},
     "output_type": "execute_result"
    }
   ],
   "source": [
    "X_reduced"
   ]
  },
  {
   "cell_type": "markdown",
   "metadata": {},
   "source": [
    "### train-test split for reduced features"
   ]
  },
  {
   "cell_type": "code",
   "execution_count": null,
   "metadata": {},
   "outputs": [],
   "source": [
    "X_reduced_train, X_reduced_test, y_reduced_train, y_reduced_test = train_test_split(\n",
    "                        X_reduced, y, test_size=0.2, random_state=0)"
   ]
  },
  {
   "cell_type": "markdown",
   "metadata": {},
   "source": [
    "## Finding the best model (Using the reduced dataset features)"
   ]
  },
  {
   "cell_type": "markdown",
   "metadata": {},
   "source": [
    "* svc_reduced_feature\n",
    "* bdt_reduced_feature\n",
    "* gnb_reduced_feature"
   ]
  },
  {
   "cell_type": "markdown",
   "metadata": {},
   "source": [
    "### Using SVC"
   ]
  },
  {
   "cell_type": "code",
   "execution_count": null,
   "metadata": {},
   "outputs": [
    {
     "data": {
      "text/plain": [
       "SVC(C=1, probability=True)"
      ]
     },
     "execution_count": 48,
     "metadata": {},
     "output_type": "execute_result"
    }
   ],
   "source": [
    "svc_reduced_feature = SVC(kernel='rbf', probability=True, gamma=\"scale\", C=1)\n",
    "svc_reduced_feature.fit(X_reduced_train, y_reduced_train)"
   ]
  },
  {
   "cell_type": "code",
   "execution_count": null,
   "metadata": {},
   "outputs": [
    {
     "data": {
      "text/plain": [
       "array([1, 0, 1, 0, 1, 1, 1, 0, 0, 1, 0, 0, 0, 1, 1, 1, 1, 1, 0, 1, 0, 0,\n",
       "       1, 0, 0, 1, 1, 0, 0, 0, 0, 0, 1, 1, 1, 1, 0, 0, 0, 0, 1, 1, 1, 0,\n",
       "       1, 1, 1, 1, 1, 1, 1, 0, 0, 0, 1, 0, 0, 0, 1, 0, 1, 0, 1, 1, 0, 0,\n",
       "       1, 1, 1, 0, 0, 0, 0, 0, 1, 1, 0, 0, 0, 1, 1, 1, 1, 0, 1, 1, 0, 1,\n",
       "       0, 1, 1, 0, 1, 0, 1, 0, 1, 1, 1, 0, 0, 1, 0, 1, 1, 0, 0, 1, 1, 1,\n",
       "       0, 0, 1, 0, 1, 1, 1, 1, 1, 1, 0, 0, 0, 1, 0, 0, 1, 0, 1, 0, 1, 1,\n",
       "       0, 0, 1, 0, 1, 1, 0, 1, 0, 1, 1, 0, 0, 0, 1, 0, 0, 0, 0, 0, 0, 0,\n",
       "       1, 1, 1, 1, 0, 0, 1, 1, 1, 1, 1, 0, 1, 1, 1, 1, 1, 1, 1, 1, 0, 1,\n",
       "       0, 1, 1, 1, 1, 0, 0, 0, 0, 0, 1, 1, 1, 0, 1, 1, 0, 1, 0, 0, 1, 0,\n",
       "       0, 1, 0, 1, 0, 0, 0, 0, 1, 0, 1, 1, 0, 0, 1, 0, 1, 1, 0, 0, 0, 1,\n",
       "       0, 0, 1, 0, 1, 1, 0, 0, 0, 0, 0, 1, 1, 0, 0, 0, 0, 1, 0, 1, 0, 1,\n",
       "       1, 0, 1, 1, 0, 0, 0, 1, 1, 1, 0, 0, 1, 1, 1, 1, 1, 0, 1, 1, 0, 1,\n",
       "       0, 1, 1, 1, 0, 1, 0, 1, 1, 1, 0, 0, 1, 1, 0, 0, 0, 0, 0, 1, 1, 1,\n",
       "       1, 1, 1, 0, 0, 1, 0, 0, 1, 0, 0, 1, 1, 1, 0, 0, 0, 0, 1, 0, 1, 0,\n",
       "       1, 0, 1, 1, 1, 1, 0, 1, 0, 0, 1, 1, 1, 1, 1, 0, 0, 0, 1, 0, 1, 0,\n",
       "       0, 1, 0, 1, 0, 1, 1, 0, 1, 0, 0, 1, 1, 1, 0, 1, 1, 0, 0, 1, 0, 1,\n",
       "       1, 0, 1, 0, 1, 1, 0, 1, 0, 1, 0, 0, 0, 1, 0, 0, 1, 1, 1, 1, 0, 0,\n",
       "       1, 0, 1, 0, 0, 0, 1, 1, 1, 1])"
      ]
     },
     "execution_count": 49,
     "metadata": {},
     "output_type": "execute_result"
    }
   ],
   "source": [
    "result_svc_reduced_feature = svc_reduced_feature.predict(X_reduced_test)\n",
    "result_svc_reduced_feature"
   ]
  },
  {
   "cell_type": "code",
   "execution_count": null,
   "metadata": {},
   "outputs": [
    {
     "data": {
      "text/html": [
       "<div>\n",
       "<style scoped>\n",
       "    .dataframe tbody tr th:only-of-type {\n",
       "        vertical-align: middle;\n",
       "    }\n",
       "\n",
       "    .dataframe tbody tr th {\n",
       "        vertical-align: top;\n",
       "    }\n",
       "\n",
       "    .dataframe thead th {\n",
       "        text-align: right;\n",
       "    }\n",
       "</style>\n",
       "<table border=\"1\" class=\"dataframe\">\n",
       "  <thead>\n",
       "    <tr style=\"text-align: right;\">\n",
       "      <th></th>\n",
       "      <th>Actual value</th>\n",
       "      <th>Predicted value</th>\n",
       "    </tr>\n",
       "  </thead>\n",
       "  <tbody>\n",
       "    <tr>\n",
       "      <th>361</th>\n",
       "      <td>1</td>\n",
       "      <td>1</td>\n",
       "    </tr>\n",
       "    <tr>\n",
       "      <th>1552</th>\n",
       "      <td>0</td>\n",
       "      <td>0</td>\n",
       "    </tr>\n",
       "    <tr>\n",
       "      <th>1248</th>\n",
       "      <td>1</td>\n",
       "      <td>1</td>\n",
       "    </tr>\n",
       "    <tr>\n",
       "      <th>1633</th>\n",
       "      <td>1</td>\n",
       "      <td>0</td>\n",
       "    </tr>\n",
       "    <tr>\n",
       "      <th>427</th>\n",
       "      <td>0</td>\n",
       "      <td>1</td>\n",
       "    </tr>\n",
       "    <tr>\n",
       "      <th>294</th>\n",
       "      <td>1</td>\n",
       "      <td>1</td>\n",
       "    </tr>\n",
       "    <tr>\n",
       "      <th>161</th>\n",
       "      <td>1</td>\n",
       "      <td>1</td>\n",
       "    </tr>\n",
       "    <tr>\n",
       "      <th>825</th>\n",
       "      <td>0</td>\n",
       "      <td>0</td>\n",
       "    </tr>\n",
       "    <tr>\n",
       "      <th>182</th>\n",
       "      <td>0</td>\n",
       "      <td>0</td>\n",
       "    </tr>\n",
       "    <tr>\n",
       "      <th>223</th>\n",
       "      <td>1</td>\n",
       "      <td>1</td>\n",
       "    </tr>\n",
       "  </tbody>\n",
       "</table>\n",
       "</div>"
      ],
      "text/plain": [
       "      Actual value  Predicted value\n",
       "361              1                1\n",
       "1552             0                0\n",
       "1248             1                1\n",
       "1633             1                0\n",
       "427              0                1\n",
       "294              1                1\n",
       "161              1                1\n",
       "825              0                0\n",
       "182              0                0\n",
       "223              1                1"
      ]
     },
     "execution_count": 50,
     "metadata": {},
     "output_type": "execute_result"
    }
   ],
   "source": [
    "a = pd.DataFrame({'Actual value': y_reduced_test, 'Predicted value': result_svc_reduced_feature})\n",
    "a.head(10)"
   ]
  },
  {
   "cell_type": "code",
   "execution_count": null,
   "metadata": {},
   "outputs": [
    {
     "name": "stdout",
     "output_type": "stream",
     "text": [
      "[[136  58]\n",
      " [ 46 144]]\n"
     ]
    }
   ],
   "source": [
    "# Confusion Matrix of SVC\n",
    "svc_reduced_feature_cm = confusion_matrix(y_reduced_test, result_svc_reduced_feature)\n",
    "print(svc_reduced_feature_cm )"
   ]
  },
  {
   "cell_type": "code",
   "execution_count": null,
   "metadata": {},
   "outputs": [
    {
     "name": "stdout",
     "output_type": "stream",
     "text": [
      "              precision    recall  f1-score   support\n",
      "\n",
      "           0       0.75      0.70      0.72       194\n",
      "           1       0.71      0.76      0.73       190\n",
      "\n",
      "    accuracy                           0.73       384\n",
      "   macro avg       0.73      0.73      0.73       384\n",
      "weighted avg       0.73      0.73      0.73       384\n",
      "\n"
     ]
    }
   ],
   "source": [
    "# Classification Report for SVC\n",
    "print(classification_report(y_reduced_test, result_svc_reduced_feature))"
   ]
  },
  {
   "cell_type": "markdown",
   "metadata": {},
   "source": [
    "### Using Boosted Decision Tree"
   ]
  },
  {
   "cell_type": "code",
   "execution_count": null,
   "metadata": {},
   "outputs": [
    {
     "data": {
      "text/plain": [
       "AdaBoostClassifier(base_estimator=DecisionTreeClassifier(max_depth=5),\n",
       "                   n_estimators=500,\n",
       "                   random_state=RandomState(MT19937) at 0x1247D610048)"
      ]
     },
     "execution_count": 53,
     "metadata": {},
     "output_type": "execute_result"
    }
   ],
   "source": [
    "# the DT is boosted using AdaBoost\n",
    "\n",
    "seed = np.random.RandomState(1)\n",
    "\n",
    "dt_reduced_feature = AdaBoostClassifier(\n",
    "    DecisionTreeClassifier(max_depth=5), n_estimators=500, random_state=seed\n",
    ")\n",
    "\n",
    "dt_reduced_feature.fit(X_reduced_train, y_reduced_train)"
   ]
  },
  {
   "cell_type": "code",
   "execution_count": null,
   "metadata": {},
   "outputs": [
    {
     "data": {
      "text/plain": [
       "array([1, 0, 0, 1, 0, 0, 1, 1, 0, 0, 1, 0, 1, 1, 1, 0, 0, 1, 0, 0, 0, 0,\n",
       "       1, 0, 1, 1, 1, 0, 0, 0, 1, 1, 1, 1, 0, 1, 0, 0, 0, 1, 1, 1, 1, 1,\n",
       "       1, 0, 1, 0, 1, 1, 0, 1, 0, 0, 1, 0, 0, 1, 1, 1, 1, 1, 1, 1, 1, 0,\n",
       "       1, 0, 1, 0, 1, 0, 0, 1, 1, 1, 0, 0, 0, 1, 1, 0, 1, 1, 1, 1, 1, 1,\n",
       "       0, 1, 1, 0, 1, 0, 1, 1, 1, 0, 1, 0, 0, 0, 0, 0, 0, 0, 0, 1, 1, 1,\n",
       "       0, 0, 0, 0, 1, 1, 1, 1, 1, 1, 0, 0, 1, 1, 0, 1, 1, 1, 1, 0, 0, 1,\n",
       "       1, 0, 1, 0, 1, 1, 0, 1, 0, 0, 1, 0, 0, 0, 0, 0, 0, 0, 1, 0, 0, 1,\n",
       "       1, 1, 1, 1, 0, 0, 1, 0, 0, 1, 1, 0, 1, 1, 1, 1, 1, 1, 1, 0, 0, 0,\n",
       "       0, 0, 1, 1, 1, 0, 0, 0, 0, 1, 1, 1, 1, 1, 1, 0, 0, 1, 0, 0, 1, 1,\n",
       "       0, 1, 1, 1, 0, 0, 1, 1, 1, 0, 1, 1, 1, 0, 0, 0, 1, 1, 1, 0, 0, 1,\n",
       "       1, 0, 1, 0, 0, 1, 0, 0, 0, 1, 0, 1, 1, 0, 0, 1, 0, 0, 0, 0, 0, 0,\n",
       "       1, 0, 0, 1, 0, 0, 0, 1, 0, 0, 1, 0, 1, 0, 1, 1, 1, 0, 1, 1, 0, 1,\n",
       "       0, 1, 0, 0, 0, 1, 0, 1, 1, 1, 0, 1, 1, 0, 0, 1, 1, 1, 0, 0, 1, 0,\n",
       "       1, 1, 1, 1, 1, 0, 0, 0, 0, 0, 0, 1, 1, 0, 0, 0, 0, 0, 1, 0, 1, 1,\n",
       "       0, 0, 0, 0, 0, 1, 0, 1, 0, 0, 1, 0, 0, 0, 1, 0, 0, 0, 1, 1, 1, 0,\n",
       "       0, 0, 1, 0, 0, 1, 0, 0, 0, 0, 1, 1, 1, 1, 0, 1, 0, 0, 1, 1, 1, 1,\n",
       "       0, 0, 1, 0, 0, 1, 0, 1, 1, 0, 0, 0, 0, 1, 1, 0, 1, 1, 0, 1, 0, 0,\n",
       "       1, 0, 1, 1, 0, 1, 1, 1, 1, 1])"
      ]
     },
     "execution_count": 54,
     "metadata": {},
     "output_type": "execute_result"
    }
   ],
   "source": [
    "result_dt_reduced_feature = dt_reduced_feature.predict(X_reduced_test)\n",
    "result_dt_reduced_feature"
   ]
  },
  {
   "cell_type": "code",
   "execution_count": null,
   "metadata": {},
   "outputs": [
    {
     "data": {
      "text/html": [
       "<div>\n",
       "<style scoped>\n",
       "    .dataframe tbody tr th:only-of-type {\n",
       "        vertical-align: middle;\n",
       "    }\n",
       "\n",
       "    .dataframe tbody tr th {\n",
       "        vertical-align: top;\n",
       "    }\n",
       "\n",
       "    .dataframe thead th {\n",
       "        text-align: right;\n",
       "    }\n",
       "</style>\n",
       "<table border=\"1\" class=\"dataframe\">\n",
       "  <thead>\n",
       "    <tr style=\"text-align: right;\">\n",
       "      <th></th>\n",
       "      <th>Actual value</th>\n",
       "      <th>Predicted value</th>\n",
       "    </tr>\n",
       "  </thead>\n",
       "  <tbody>\n",
       "    <tr>\n",
       "      <th>361</th>\n",
       "      <td>1</td>\n",
       "      <td>1</td>\n",
       "    </tr>\n",
       "    <tr>\n",
       "      <th>1552</th>\n",
       "      <td>0</td>\n",
       "      <td>0</td>\n",
       "    </tr>\n",
       "    <tr>\n",
       "      <th>1248</th>\n",
       "      <td>1</td>\n",
       "      <td>0</td>\n",
       "    </tr>\n",
       "    <tr>\n",
       "      <th>1633</th>\n",
       "      <td>1</td>\n",
       "      <td>1</td>\n",
       "    </tr>\n",
       "    <tr>\n",
       "      <th>427</th>\n",
       "      <td>0</td>\n",
       "      <td>0</td>\n",
       "    </tr>\n",
       "    <tr>\n",
       "      <th>294</th>\n",
       "      <td>1</td>\n",
       "      <td>0</td>\n",
       "    </tr>\n",
       "    <tr>\n",
       "      <th>161</th>\n",
       "      <td>1</td>\n",
       "      <td>1</td>\n",
       "    </tr>\n",
       "    <tr>\n",
       "      <th>825</th>\n",
       "      <td>0</td>\n",
       "      <td>1</td>\n",
       "    </tr>\n",
       "    <tr>\n",
       "      <th>182</th>\n",
       "      <td>0</td>\n",
       "      <td>0</td>\n",
       "    </tr>\n",
       "    <tr>\n",
       "      <th>223</th>\n",
       "      <td>1</td>\n",
       "      <td>0</td>\n",
       "    </tr>\n",
       "  </tbody>\n",
       "</table>\n",
       "</div>"
      ],
      "text/plain": [
       "      Actual value  Predicted value\n",
       "361              1                1\n",
       "1552             0                0\n",
       "1248             1                0\n",
       "1633             1                1\n",
       "427              0                0\n",
       "294              1                0\n",
       "161              1                1\n",
       "825              0                1\n",
       "182              0                0\n",
       "223              1                0"
      ]
     },
     "execution_count": 55,
     "metadata": {},
     "output_type": "execute_result"
    }
   ],
   "source": [
    "b = pd.DataFrame({'Actual value': y_reduced_test, 'Predicted value': result_dt_reduced_feature})\n",
    "b.head(10)"
   ]
  },
  {
   "cell_type": "code",
   "execution_count": null,
   "metadata": {},
   "outputs": [
    {
     "name": "stdout",
     "output_type": "stream",
     "text": [
      "[[131  63]\n",
      " [ 58 132]]\n"
     ]
    }
   ],
   "source": [
    "# Confusion Matrix of BDT\n",
    "dt_reduced_feature_cm = confusion_matrix(y_reduced_test, result_dt_reduced_feature)\n",
    "print(dt_reduced_feature_cm )"
   ]
  },
  {
   "cell_type": "code",
   "execution_count": null,
   "metadata": {},
   "outputs": [
    {
     "name": "stdout",
     "output_type": "stream",
     "text": [
      "              precision    recall  f1-score   support\n",
      "\n",
      "           0       0.69      0.68      0.68       194\n",
      "           1       0.68      0.69      0.69       190\n",
      "\n",
      "    accuracy                           0.68       384\n",
      "   macro avg       0.69      0.68      0.68       384\n",
      "weighted avg       0.69      0.68      0.68       384\n",
      "\n"
     ]
    }
   ],
   "source": [
    "# Classification Report for BDT\n",
    "print(classification_report(y_reduced_test, result_dt_reduced_feature))"
   ]
  },
  {
   "cell_type": "markdown",
   "metadata": {},
   "source": [
    "### Using Gaussian Naive Bayes"
   ]
  },
  {
   "cell_type": "code",
   "execution_count": null,
   "metadata": {},
   "outputs": [
    {
     "data": {
      "text/plain": [
       "GaussianNB()"
      ]
     },
     "execution_count": 58,
     "metadata": {},
     "output_type": "execute_result"
    }
   ],
   "source": [
    "gnb_reduced_feature = GaussianNB()\n",
    "gnb_reduced_feature.fit(X_reduced_train, y_reduced_train)"
   ]
  },
  {
   "cell_type": "code",
   "execution_count": null,
   "metadata": {},
   "outputs": [
    {
     "data": {
      "text/plain": [
       "array([1, 0, 1, 0, 1, 0, 1, 1, 0, 1, 0, 0, 0, 1, 1, 1, 1, 1, 0, 1, 0, 0,\n",
       "       0, 0, 0, 1, 0, 0, 0, 0, 0, 0, 1, 1, 1, 1, 0, 0, 0, 0, 1, 1, 1, 1,\n",
       "       1, 1, 1, 1, 1, 1, 1, 1, 0, 0, 1, 1, 1, 0, 1, 1, 1, 1, 1, 1, 1, 0,\n",
       "       1, 1, 1, 0, 1, 0, 0, 0, 1, 1, 0, 0, 1, 1, 1, 1, 1, 0, 1, 1, 0, 1,\n",
       "       0, 1, 1, 0, 1, 0, 1, 0, 1, 1, 1, 0, 0, 1, 1, 1, 1, 0, 0, 1, 1, 1,\n",
       "       0, 0, 1, 0, 0, 1, 1, 1, 1, 1, 0, 0, 0, 1, 0, 1, 1, 0, 1, 1, 0, 1,\n",
       "       0, 0, 1, 0, 1, 1, 0, 1, 0, 1, 1, 1, 0, 0, 1, 0, 0, 0, 0, 0, 1, 0,\n",
       "       1, 1, 1, 1, 0, 0, 1, 1, 1, 1, 1, 0, 1, 1, 1, 0, 1, 1, 1, 0, 0, 1,\n",
       "       0, 0, 1, 1, 1, 0, 0, 0, 0, 0, 1, 1, 1, 1, 1, 1, 0, 1, 0, 0, 1, 0,\n",
       "       0, 1, 0, 1, 0, 0, 0, 0, 1, 0, 1, 1, 0, 0, 0, 0, 1, 1, 0, 0, 0, 1,\n",
       "       0, 0, 1, 0, 1, 1, 0, 0, 0, 0, 0, 1, 1, 0, 1, 1, 0, 1, 0, 1, 0, 1,\n",
       "       1, 0, 1, 1, 0, 0, 0, 1, 1, 1, 0, 0, 0, 1, 1, 1, 1, 0, 1, 1, 0, 1,\n",
       "       0, 1, 1, 1, 0, 1, 0, 1, 1, 1, 0, 1, 1, 1, 0, 0, 1, 0, 0, 0, 1, 1,\n",
       "       1, 1, 1, 0, 1, 1, 0, 0, 1, 0, 1, 1, 1, 0, 0, 0, 0, 0, 1, 0, 1, 0,\n",
       "       1, 0, 1, 1, 0, 1, 0, 0, 0, 0, 1, 1, 1, 1, 1, 0, 0, 1, 1, 1, 1, 0,\n",
       "       0, 0, 0, 1, 0, 1, 1, 0, 1, 0, 1, 1, 1, 1, 0, 1, 1, 0, 0, 1, 0, 0,\n",
       "       1, 1, 1, 0, 0, 1, 0, 1, 0, 1, 0, 0, 0, 1, 1, 0, 1, 1, 0, 1, 0, 0,\n",
       "       1, 0, 1, 0, 0, 1, 1, 1, 1, 1])"
      ]
     },
     "execution_count": 59,
     "metadata": {},
     "output_type": "execute_result"
    }
   ],
   "source": [
    "result_gnb_reduced_feature = gnb_reduced_feature.predict(X_reduced_test)\n",
    "result_gnb_reduced_feature"
   ]
  },
  {
   "cell_type": "code",
   "execution_count": null,
   "metadata": {},
   "outputs": [
    {
     "data": {
      "text/html": [
       "<div>\n",
       "<style scoped>\n",
       "    .dataframe tbody tr th:only-of-type {\n",
       "        vertical-align: middle;\n",
       "    }\n",
       "\n",
       "    .dataframe tbody tr th {\n",
       "        vertical-align: top;\n",
       "    }\n",
       "\n",
       "    .dataframe thead th {\n",
       "        text-align: right;\n",
       "    }\n",
       "</style>\n",
       "<table border=\"1\" class=\"dataframe\">\n",
       "  <thead>\n",
       "    <tr style=\"text-align: right;\">\n",
       "      <th></th>\n",
       "      <th>Actual value</th>\n",
       "      <th>Predicted value</th>\n",
       "    </tr>\n",
       "  </thead>\n",
       "  <tbody>\n",
       "    <tr>\n",
       "      <th>361</th>\n",
       "      <td>1</td>\n",
       "      <td>1</td>\n",
       "    </tr>\n",
       "    <tr>\n",
       "      <th>1552</th>\n",
       "      <td>0</td>\n",
       "      <td>0</td>\n",
       "    </tr>\n",
       "    <tr>\n",
       "      <th>1248</th>\n",
       "      <td>1</td>\n",
       "      <td>1</td>\n",
       "    </tr>\n",
       "    <tr>\n",
       "      <th>1633</th>\n",
       "      <td>1</td>\n",
       "      <td>0</td>\n",
       "    </tr>\n",
       "    <tr>\n",
       "      <th>427</th>\n",
       "      <td>0</td>\n",
       "      <td>1</td>\n",
       "    </tr>\n",
       "    <tr>\n",
       "      <th>294</th>\n",
       "      <td>1</td>\n",
       "      <td>0</td>\n",
       "    </tr>\n",
       "    <tr>\n",
       "      <th>161</th>\n",
       "      <td>1</td>\n",
       "      <td>1</td>\n",
       "    </tr>\n",
       "    <tr>\n",
       "      <th>825</th>\n",
       "      <td>0</td>\n",
       "      <td>1</td>\n",
       "    </tr>\n",
       "    <tr>\n",
       "      <th>182</th>\n",
       "      <td>0</td>\n",
       "      <td>0</td>\n",
       "    </tr>\n",
       "    <tr>\n",
       "      <th>223</th>\n",
       "      <td>1</td>\n",
       "      <td>1</td>\n",
       "    </tr>\n",
       "  </tbody>\n",
       "</table>\n",
       "</div>"
      ],
      "text/plain": [
       "      Actual value  Predicted value\n",
       "361              1                1\n",
       "1552             0                0\n",
       "1248             1                1\n",
       "1633             1                0\n",
       "427              0                1\n",
       "294              1                0\n",
       "161              1                1\n",
       "825              0                1\n",
       "182              0                0\n",
       "223              1                1"
      ]
     },
     "execution_count": 60,
     "metadata": {},
     "output_type": "execute_result"
    }
   ],
   "source": [
    "c = pd.DataFrame({'Actual value': y_reduced_test, 'Predicted value': result_gnb_reduced_feature})\n",
    "c.head(10)"
   ]
  },
  {
   "cell_type": "code",
   "execution_count": null,
   "metadata": {},
   "outputs": [
    {
     "name": "stdout",
     "output_type": "stream",
     "text": [
      "[[135  59]\n",
      " [ 37 153]]\n"
     ]
    }
   ],
   "source": [
    "# Confusion Matrix of GNB\n",
    "gnb_reduced_feature_cm = confusion_matrix(y_reduced_test, result_gnb_reduced_feature)\n",
    "print(gnb_reduced_feature_cm)"
   ]
  },
  {
   "cell_type": "code",
   "execution_count": null,
   "metadata": {},
   "outputs": [
    {
     "name": "stdout",
     "output_type": "stream",
     "text": [
      "              precision    recall  f1-score   support\n",
      "\n",
      "           0       0.78      0.70      0.74       194\n",
      "           1       0.72      0.81      0.76       190\n",
      "\n",
      "    accuracy                           0.75       384\n",
      "   macro avg       0.75      0.75      0.75       384\n",
      "weighted avg       0.75      0.75      0.75       384\n",
      "\n"
     ]
    }
   ],
   "source": [
    "# Classification Report for GBN\n",
    "print(classification_report(y_reduced_test, result_gnb_reduced_feature))"
   ]
  },
  {
   "cell_type": "code",
   "execution_count": null,
   "metadata": {},
   "outputs": [
    {
     "data": {
      "text/html": [
       "<div>\n",
       "<style scoped>\n",
       "    .dataframe tbody tr th:only-of-type {\n",
       "        vertical-align: middle;\n",
       "    }\n",
       "\n",
       "    .dataframe tbody tr th {\n",
       "        vertical-align: top;\n",
       "    }\n",
       "\n",
       "    .dataframe thead th {\n",
       "        text-align: right;\n",
       "    }\n",
       "</style>\n",
       "<table border=\"1\" class=\"dataframe\">\n",
       "  <thead>\n",
       "    <tr style=\"text-align: right;\">\n",
       "      <th></th>\n",
       "      <th>Actual</th>\n",
       "      <th>SVC</th>\n",
       "      <th>BDT</th>\n",
       "      <th>GNB</th>\n",
       "      <th>summary</th>\n",
       "    </tr>\n",
       "  </thead>\n",
       "  <tbody>\n",
       "    <tr>\n",
       "      <th>361</th>\n",
       "      <td>1</td>\n",
       "      <td>1</td>\n",
       "      <td>1</td>\n",
       "      <td>1</td>\n",
       "      <td>4</td>\n",
       "    </tr>\n",
       "    <tr>\n",
       "      <th>1552</th>\n",
       "      <td>0</td>\n",
       "      <td>0</td>\n",
       "      <td>0</td>\n",
       "      <td>0</td>\n",
       "      <td>0</td>\n",
       "    </tr>\n",
       "    <tr>\n",
       "      <th>1248</th>\n",
       "      <td>1</td>\n",
       "      <td>1</td>\n",
       "      <td>0</td>\n",
       "      <td>1</td>\n",
       "      <td>3</td>\n",
       "    </tr>\n",
       "    <tr>\n",
       "      <th>1633</th>\n",
       "      <td>1</td>\n",
       "      <td>0</td>\n",
       "      <td>1</td>\n",
       "      <td>0</td>\n",
       "      <td>2</td>\n",
       "    </tr>\n",
       "    <tr>\n",
       "      <th>427</th>\n",
       "      <td>0</td>\n",
       "      <td>1</td>\n",
       "      <td>0</td>\n",
       "      <td>1</td>\n",
       "      <td>2</td>\n",
       "    </tr>\n",
       "  </tbody>\n",
       "</table>\n",
       "</div>"
      ],
      "text/plain": [
       "      Actual  SVC  BDT  GNB  summary\n",
       "361   1       1    1    1    4      \n",
       "1552  0       0    0    0    0      \n",
       "1248  1       1    0    1    3      \n",
       "1633  1       0    1    0    2      \n",
       "427   0       1    0    1    2      "
      ]
     },
     "metadata": {},
     "output_type": "display_data"
    }
   ],
   "source": [
    "compare_reduced = pd.DataFrame({'Actual': y_reduced_test, 'SVC': result_svc_reduced_feature, 'BDT': result_dt_reduced_feature, 'GNB': result_gnb_reduced_feature})\n",
    "\n",
    "pd.set_option('display.max_rows', None)\n",
    "pd.set_option('display.max_columns', None)\n",
    "pd.set_option('display.width', None)\n",
    "pd.set_option('display.max_colwidth', -1)\n",
    "\n",
    "compare_reduced[\"summary\"] = compare_reduced.sum(axis=1)\n",
    "\n",
    "display(compare_reduced.head())"
   ]
  },
  {
   "cell_type": "code",
   "execution_count": null,
   "metadata": {},
   "outputs": [
    {
     "data": {
      "text/plain": [
       "'[(4, 107), (0, 100)]'"
      ]
     },
     "execution_count": 64,
     "metadata": {},
     "output_type": "execute_result"
    }
   ],
   "source": [
    "summary = compare_reduced['summary'].tolist()\n",
    "count = Counter(summary).most_common(2)\n",
    "most_common = [paired for paired in count]\n",
    "common_text = str(most_common)\n",
    "common_text"
   ]
  },
  {
   "cell_type": "markdown",
   "metadata": {},
   "source": [
    "## Reduced features: Groups that are easier to classify by all 3 algos"
   ]
  },
  {
   "cell_type": "code",
   "execution_count": null,
   "metadata": {},
   "outputs": [
    {
     "data": {
      "text/html": [
       "<div>\n",
       "<style scoped>\n",
       "    .dataframe tbody tr th:only-of-type {\n",
       "        vertical-align: middle;\n",
       "    }\n",
       "\n",
       "    .dataframe tbody tr th {\n",
       "        vertical-align: top;\n",
       "    }\n",
       "\n",
       "    .dataframe thead th {\n",
       "        text-align: right;\n",
       "    }\n",
       "</style>\n",
       "<table border=\"1\" class=\"dataframe\">\n",
       "  <thead>\n",
       "    <tr style=\"text-align: right;\">\n",
       "      <th></th>\n",
       "      <th>True Positive</th>\n",
       "      <th>True Negative</th>\n",
       "      <th>Mixed classification</th>\n",
       "    </tr>\n",
       "  </thead>\n",
       "  <tbody>\n",
       "    <tr>\n",
       "      <th>0</th>\n",
       "      <td>28%</td>\n",
       "      <td>26%</td>\n",
       "      <td>46%</td>\n",
       "    </tr>\n",
       "  </tbody>\n",
       "</table>\n",
       "</div>"
      ],
      "text/plain": [
       "  True Positive True Negative Mixed classification\n",
       "0  28%           26%           46%                "
      ]
     },
     "execution_count": 80,
     "metadata": {},
     "output_type": "execute_result"
    }
   ],
   "source": [
    "table_class = pd.DataFrame()\n",
    "table_class['True Positive'] = np.array([f\"{str(round((107/384)*100))}%\"])\n",
    "table_class['True Negative'] = np.array([f\"{str(round((100/384)*100))}%\"])\n",
    "table_class['Mixed classification'] = np.array([f\"{str(round((177/384)*100))}%\"])\n",
    "table_class"
   ]
  },
  {
   "cell_type": "code",
   "execution_count": null,
   "metadata": {},
   "outputs": [
    {
     "data": {
      "text/plain": [
       "(384, 5)"
      ]
     },
     "execution_count": 100,
     "metadata": {},
     "output_type": "execute_result"
    }
   ],
   "source": [
    "compare_reduced.shape"
   ]
  },
  {
   "cell_type": "code",
   "execution_count": null,
   "metadata": {},
   "outputs": [
    {
     "name": "stdout",
     "output_type": "stream",
     "text": [
      "As the xlwt package is no longer maintained, the xlwt engine will be removed in a future version of pandas. This is the only engine in pandas that supports writing in the xls format. Install openpyxl and write to an xlsx file instead.\n",
      "\n",
      ": boolean\n",
      "    use_inf_as_null had been deprecated and will be removed in a future\n",
      "    version. Use `use_inf_as_na` instead.\n",
      "\n"
     ]
    }
   ],
   "source": [
    "# Resets the options\n",
    "pd.reset_option('all')"
   ]
  },
  {
   "cell_type": "code",
   "execution_count": null,
   "metadata": {},
   "outputs": [],
   "source": [
    "#compare_reduced.to_csv('actual_vs_models_pred_reduced.csv', index=True)"
   ]
  }
 ],
 "metadata": {
  "colab": {
   "collapsed_sections": [],
   "include_colab_link": true,
   "name": "TIP_Project.ipynb",
   "provenance": []
  },
  "kernelspec": {
   "display_name": "Python 3 (ipykernel)",
   "language": "python",
   "name": "python3"
  },
  "language_info": {
   "codemirror_mode": {
    "name": "ipython",
    "version": 3
   },
   "file_extension": ".py",
   "mimetype": "text/x-python",
   "name": "python",
   "nbconvert_exporter": "python",
   "pygments_lexer": "ipython3",
   "version": "3.7.7"
  },
  "vscode": {
   "interpreter": {
    "hash": "6759f06400d2fe4a2d9d8d886575a6740e2b5b0c40aadf58e001901f986074b2"
   }
  }
 },
 "nbformat": 4,
 "nbformat_minor": 1
}
